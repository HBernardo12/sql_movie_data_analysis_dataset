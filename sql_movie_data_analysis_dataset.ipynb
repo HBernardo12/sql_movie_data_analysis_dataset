{
  "metadata": {
    "kernelspec": {
      "language": "python",
      "display_name": "Python 3",
      "name": "python3"
    },
    "language_info": {
      "name": "python",
      "version": "3.10.13",
      "mimetype": "text/x-python",
      "codemirror_mode": {
        "name": "ipython",
        "version": 3
      },
      "pygments_lexer": "ipython3",
      "nbconvert_exporter": "python",
      "file_extension": ".py"
    },
    "kaggle": {
      "accelerator": "none",
      "dataSources": [
        {
          "sourceId": 6517086,
          "sourceType": "datasetVersion",
          "datasetId": 3767458
        }
      ],
      "dockerImageVersionId": 30746,
      "isInternetEnabled": false,
      "language": "python",
      "sourceType": "notebook",
      "isGpuEnabled": false
    },
    "colab": {
      "provenance": [],
      "collapsed_sections": [
        "KBFkiADmbdF9",
        "GwmRaRF-Y6TP"
      ],
      "toc_visible": true
    }
  },
  "nbformat_minor": 0,
  "nbformat": 4,
  "cells": [
    {
      "cell_type": "markdown",
      "source": [
        "# Análise de Dados - Respondendo perguntas de negócio com SQL - Movie Data Analytics Dataset"
      ],
      "metadata": {
        "id": "uU4bv58nY6TJ"
      }
    },
    {
      "cell_type": "markdown",
      "source": [
        "## Sobre o Projeto\n",
        "\n",
        "* ### A base de dados possuí três tabelas com informações relevantes sobre o mercado cinematográfico.\n",
        "* ### O objetivo da análise é responder perguntas que tragam insights relevantes sobre o mercado cinematográfico."
      ],
      "metadata": {
        "id": "c_3TkMGCY6TO"
      }
    },
    {
      "cell_type": "markdown",
      "source": [
        "## Instalando Bibliotecas e Configurando o notebook"
      ],
      "metadata": {
        "id": "KBFkiADmbdF9"
      }
    },
    {
      "cell_type": "code",
      "source": [
        "!pip install ipython-sql\n",
        "!pip install sqlalchemy"
      ],
      "metadata": {
        "colab": {
          "base_uri": "https://localhost:8080/"
        },
        "collapsed": true,
        "id": "3uU6h_5lZeOi",
        "outputId": "bb3648bf-4650-4190-ce8e-79f6c13b0bd8"
      },
      "execution_count": null,
      "outputs": [
        {
          "output_type": "stream",
          "name": "stdout",
          "text": [
            "Requirement already satisfied: ipython-sql in /usr/local/lib/python3.10/dist-packages (0.5.0)\n",
            "Requirement already satisfied: prettytable in /usr/local/lib/python3.10/dist-packages (from ipython-sql) (3.10.2)\n",
            "Requirement already satisfied: ipython in /usr/local/lib/python3.10/dist-packages (from ipython-sql) (7.34.0)\n",
            "Requirement already satisfied: sqlalchemy>=2.0 in /usr/local/lib/python3.10/dist-packages (from ipython-sql) (2.0.31)\n",
            "Requirement already satisfied: sqlparse in /usr/local/lib/python3.10/dist-packages (from ipython-sql) (0.5.1)\n",
            "Requirement already satisfied: six in /usr/local/lib/python3.10/dist-packages (from ipython-sql) (1.16.0)\n",
            "Requirement already satisfied: ipython-genutils in /usr/local/lib/python3.10/dist-packages (from ipython-sql) (0.2.0)\n",
            "Requirement already satisfied: typing-extensions>=4.6.0 in /usr/local/lib/python3.10/dist-packages (from sqlalchemy>=2.0->ipython-sql) (4.12.2)\n",
            "Requirement already satisfied: greenlet!=0.4.17 in /usr/local/lib/python3.10/dist-packages (from sqlalchemy>=2.0->ipython-sql) (3.0.3)\n",
            "Requirement already satisfied: setuptools>=18.5 in /usr/local/lib/python3.10/dist-packages (from ipython->ipython-sql) (67.7.2)\n",
            "Collecting jedi>=0.16 (from ipython->ipython-sql)\n",
            "  Downloading jedi-0.19.1-py2.py3-none-any.whl (1.6 MB)\n",
            "\u001b[2K     \u001b[90m━━━━━━━━━━━━━━━━━━━━━━━━━━━━━━━━━━━━━━━━\u001b[0m \u001b[32m1.6/1.6 MB\u001b[0m \u001b[31m14.8 MB/s\u001b[0m eta \u001b[36m0:00:00\u001b[0m\n",
            "\u001b[?25hRequirement already satisfied: decorator in /usr/local/lib/python3.10/dist-packages (from ipython->ipython-sql) (4.4.2)\n",
            "Requirement already satisfied: pickleshare in /usr/local/lib/python3.10/dist-packages (from ipython->ipython-sql) (0.7.5)\n",
            "Requirement already satisfied: traitlets>=4.2 in /usr/local/lib/python3.10/dist-packages (from ipython->ipython-sql) (5.7.1)\n",
            "Requirement already satisfied: prompt-toolkit!=3.0.0,!=3.0.1,<3.1.0,>=2.0.0 in /usr/local/lib/python3.10/dist-packages (from ipython->ipython-sql) (3.0.47)\n",
            "Requirement already satisfied: pygments in /usr/local/lib/python3.10/dist-packages (from ipython->ipython-sql) (2.16.1)\n",
            "Requirement already satisfied: backcall in /usr/local/lib/python3.10/dist-packages (from ipython->ipython-sql) (0.2.0)\n",
            "Requirement already satisfied: matplotlib-inline in /usr/local/lib/python3.10/dist-packages (from ipython->ipython-sql) (0.1.7)\n",
            "Requirement already satisfied: pexpect>4.3 in /usr/local/lib/python3.10/dist-packages (from ipython->ipython-sql) (4.9.0)\n",
            "Requirement already satisfied: wcwidth in /usr/local/lib/python3.10/dist-packages (from prettytable->ipython-sql) (0.2.13)\n",
            "Requirement already satisfied: parso<0.9.0,>=0.8.3 in /usr/local/lib/python3.10/dist-packages (from jedi>=0.16->ipython->ipython-sql) (0.8.4)\n",
            "Requirement already satisfied: ptyprocess>=0.5 in /usr/local/lib/python3.10/dist-packages (from pexpect>4.3->ipython->ipython-sql) (0.7.0)\n",
            "Installing collected packages: jedi\n",
            "Successfully installed jedi-0.19.1\n",
            "Requirement already satisfied: sqlalchemy in /usr/local/lib/python3.10/dist-packages (2.0.31)\n",
            "Requirement already satisfied: typing-extensions>=4.6.0 in /usr/local/lib/python3.10/dist-packages (from sqlalchemy) (4.12.2)\n",
            "Requirement already satisfied: greenlet!=0.4.17 in /usr/local/lib/python3.10/dist-packages (from sqlalchemy) (3.0.3)\n"
          ]
        }
      ]
    },
    {
      "cell_type": "code",
      "source": [
        "%load_ext sql"
      ],
      "metadata": {
        "execution": {
          "iopub.status.busy": "2024-07-18T13:46:57.661043Z",
          "iopub.execute_input": "2024-07-18T13:46:57.662213Z",
          "iopub.status.idle": "2024-07-18T13:46:59.033135Z",
          "shell.execute_reply.started": "2024-07-18T13:46:57.662168Z",
          "shell.execute_reply": "2024-07-18T13:46:59.031779Z"
        },
        "trusted": true,
        "collapsed": true,
        "id": "1RgArWSnY6TQ"
      },
      "execution_count": null,
      "outputs": []
    },
    {
      "cell_type": "markdown",
      "source": [
        "## Conectando a base de Dados em SQL"
      ],
      "metadata": {
        "id": "GwmRaRF-Y6TP"
      }
    },
    {
      "cell_type": "code",
      "source": [
        "%sql sqlite:///movie.sqlite"
      ],
      "metadata": {
        "execution": {
          "iopub.status.busy": "2024-07-18T13:46:59.035607Z",
          "iopub.execute_input": "2024-07-18T13:46:59.036450Z",
          "iopub.status.idle": "2024-07-18T13:46:59.144422Z",
          "shell.execute_reply.started": "2024-07-18T13:46:59.036412Z",
          "shell.execute_reply": "2024-07-18T13:46:59.143026Z"
        },
        "trusted": true,
        "collapsed": true,
        "id": "oldrWqtCY6TS"
      },
      "execution_count": null,
      "outputs": []
    },
    {
      "cell_type": "markdown",
      "source": [
        "## Dicionário\n",
        "\n",
        "***IMDB - Dados Gerais dos Filmes***\n",
        "\n",
        "- Movie_id: Identificação única do filme na base de dados.\n",
        "- Title: Título do filme.\n",
        "- Rating: Avaliação média do filme, possivelmente baseada em uma escala de 1 a 10.\n",
        "- TotalVotes: Número total de votos recebidos pelo filme.\n",
        "- MetaCritic: Pontuação do filme no MetaCritic, uma média ponderada das críticas.\n",
        "- Budget: Orçamento do filme (provavelmente em dólares).\n",
        "- Runtime: Duração do filme em minutos.\n",
        "- CVotes10, CVotes09, ..., CVotes01: Número de votos recebidos pelo filme para cada nota de 10 a 1.\n",
        "- CVotesMale: Número de votos totais recebidos de homens.\n",
        "- CVotesFemale: Número de votos totais recebidos de mulheres.\n",
        "- CVotesU18: Número de votos recebidos de pessoas com menos de 18 anos.\n",
        "- CVotesU18M: Número de votos recebidos de homens com menos de 18 anos.\n",
        "- CVotesU18F: Número de votos recebidos de mulheres com menos de 18 anos.\n",
        "- CVotes1829: Número de votos recebidos de pessoas com idade entre 18 e 29 anos.\n",
        "- CVotes1829M: Número de votos recebidos de homens com idade entre 18 e 29 anos.\n",
        "- CVotes1829F: Número de votos recebidos de mulheres com idade entre 18 e 29 anos.\n",
        "- CVotes3044: Número de votos recebidos de pessoas com idade entre 30 e 44 anos.\n",
        "- CVotes3044M: Número de votos recebidos de homens com idade entre 30 e 44 anos.\n",
        "- CVotes3044F: Número de votos recebidos de mulheres com idade entre 30 e 44 anos.\n",
        "- CVotes45A: Número de votos recebidos de pessoas com 45 anos ou mais.\n",
        "- CVotes45AM: Número de votos recebidos de homens com 45 anos ou mais.\n",
        "- CVotes45AF: Número de votos recebidos de mulheres com 45 anos ou mais.\n",
        "- CVotes1000: Número de votos recebidos de usuários considerados top 1000 votantes no site.\n",
        "- CVotesUS: Número de votos recebidos de usuários dos Estados Unidos.\n",
        "- CVotesnUS: Número de votos recebidos de usuários de fora dos Estados Unidos.\n",
        "- VotesM: Avaliação média dada pelos homens.\n",
        "- VotesF: Avaliação média dada pelas mulheres.\n",
        "- VotesU18: Avaliação média dada por pessoas com menos de 18 anos.\n",
        "- VotesU18M: Avaliação média dada por homens com menos de 18 anos.\n",
        "- VotesU18F: Avaliação média dada por mulheres com menos de 18 anos.\n",
        "- Votes1829: Avaliação média dada por pessoas com idade entre 18 e 29 anos.\n",
        "- Votes1829M: Avaliação média dada por homens com idade entre 18 e 29 anos.\n",
        "- Votes1829F: Avaliação média dada por mulheres com idade entre 18 e 29 anos.\n",
        "- Votes3044: Avaliação média dada por pessoas com idade entre 30 e 44 anos.\n",
        "- Votes3044M: Avaliação média dada por homens com idade entre 30 e 44 anos.\n",
        "- Votes3044F: Avaliação média dada por mulheres com idade entre 30 e 44 anos.\n",
        "- Votes45A: Avaliação média dada por pessoas com 45 anos ou mais.\n",
        "- Votes45AM: Avaliação média dada por homens com 45 anos ou mais.\n",
        "- Votes45AF: Avaliação média dada por mulheres com 45 anos ou mais.\n",
        "- VotesIMDB: Avaliação média geral do filme no IMDb.\n",
        "- Votes1000: Avaliação média dada por usuários considerados top 1000 votantes no site.\n",
        "- VotesUS: Avaliação média dada por usuários dos Estados Unidos.\n",
        "- VotesnUS: Avaliação média dada por usuários de fora dos Estados Unidos.\n",
        "\n",
        "***earning - Receita dos Filmes***\n",
        "\n",
        "- Movie_id: Identificação única do filme na base de dados.\n",
        "- Domestic: Receita bruta doméstica (dentro do país de origem do filme, geralmente os Estados Unidos) gerada pelo filme.\n",
        "- Worldwide: Receita bruta mundial (total arrecadado globalmente) gerada pelo filme.\n",
        "\n",
        "***genre - Gênero dos Filmes***\n",
        "\n",
        "- Movie_id: Identificação única do filme na base de dados.\n",
        "- Genre: Gênero do filme (como Ação, Comédia, Drama, etc.).\n"
      ],
      "metadata": {
        "id": "FbMAni6-fssg"
      }
    },
    {
      "cell_type": "markdown",
      "source": [
        "## 1.0 Inspeção e tratamento dos Dados"
      ],
      "metadata": {
        "id": "csTtiGVmY6TX"
      }
    },
    {
      "cell_type": "markdown",
      "source": [
        "* Analisando as colunas das tabelas, se possuem primary key ou foregein key para utilizar em relacionamentos nas consultas.\n",
        "*  Visualização limitada a 5 linhas,pois o objetivo era entender que tipo de informação havia em cada coluna."
      ],
      "metadata": {
        "id": "8QFIcfy2Y6TY"
      }
    },
    {
      "cell_type": "code",
      "source": [
        "%%sql\n",
        "\n",
        "SELECT * FROM IMDB LIMIT 5"
      ],
      "metadata": {
        "execution": {
          "iopub.status.busy": "2024-07-18T14:20:39.969632Z",
          "iopub.execute_input": "2024-07-18T14:20:39.970068Z",
          "iopub.status.idle": "2024-07-18T14:20:39.988523Z",
          "shell.execute_reply.started": "2024-07-18T14:20:39.970035Z",
          "shell.execute_reply": "2024-07-18T14:20:39.987327Z"
        },
        "trusted": true,
        "colab": {
          "base_uri": "https://localhost:8080/",
          "height": 254
        },
        "id": "fZiX76WhY6TZ",
        "outputId": "41ef13ac-a228-4d4d-de6a-136e13119dbe"
      },
      "execution_count": null,
      "outputs": [
        {
          "output_type": "stream",
          "name": "stdout",
          "text": [
            " * sqlite:///movie.sqlite\n",
            "Done.\n"
          ]
        },
        {
          "output_type": "execute_result",
          "data": {
            "text/plain": [
              "[('36809', '12 Years a Slave (2013)', 8.1, 496092, 96, 20000000.0, '134 min', '75556', '126223', '161460', '83070', '27231', '9603', '4021', '2420', '1785', '4739', '313823', '82012', '1837', '1363', '457', '200910', '153669', '45301', '138762', '112943', '23895', '29252', '23072', '5726', '664', '53328', '224519.0', '8.1', '8.1', '8.4', '8.4', '8.5', '8.2', '8.2', '8.2', '8.0', '7.9', '8.0', '7.8', '7.8', '8.1', '8.0', '7.7', '8.3', '8.0'),\n",
              " ('30114', '127 Hours (2010)', 7.6, 297075, 82, 18000000.0, '94 min', '28939', '44110', '98845', '78451', '28394', '9403', '3796', '1930', '1161', '2059', '212866', '44600', '745', '567', '170', '133336', '106007', '26152', '102120', '86609', '14304', '14895', '12400', '2261', '649', '38478', '169745.0', '7.6', '7.6', '7.9', '7.9', '7.9', '7.7', '7.8', '7.7', '7.5', '7.5', '7.5', '7.3', '7.3', '7.5', '7.6', '7.0', '7.7', '7.6'),\n",
              " ('37367', '50/50\\xa0(2011)', 7.7, 283935, 72, 8000000.0, '100 min', '28304', '47501', '99524', '71485', '24252', '7545', '2381', '1109', '634', '1202', '188925', '58348', '506', '348', '153', '132350', '96269', '34765', '94745', '75394', '18163', '12829', '9912', '2681', '555', '46947', '147849.0', '7.7', '7.7', '7.9', '7.9', '7.9', '7.8', '7.8', '7.7', '7.6', '7.6', '7.6', '7.4', '7.4', '7.5', '7.4', '7.0', '7.9', '7.6'),\n",
              " ('49473', 'About Time\\xa0(2013)', 7.8, 225412, '', 12000000.0, '123 min', '38556', '43170', '70850', '45487', '16542', '5673', '2210', '1084', '664', '1182', '126718', '58098', '654', '325', '321', '92940', '57778', '34126', '67477', '50212', '16222', '13973', '10690', '3026', '475', '20450', '111670.0', '7.8', '7.9', '8.2', '8.1', '8.3', '8.0', '8.0', '8.0', '7.6', '7.6', '7.7', '7.6', '7.5', '7.8', '7.7', '6.9', '7.8', '7.7'),\n",
              " ('14867', 'Amour\\xa0(2012)', 7.9, 76121, 94, 8900000.0, '127 min', '11093', '15944', '22942', '14187', '5945', '2585', '1188', '710', '534', '995', '49808', '16719', '121', '95', '24', '28593', '20107', '8167', '28691', '21990', '6269', '7425', '5803', '1490', '391', '7959', '46138.0', '7.8', '7.9', '8.6', '8.7', '8.5', '8.0', '8.0', '7.9', '7.7', '7.7', '7.9', '7.9', '7.8', '8.1', '6.6', '7.2', '7.9', '7.8')]"
            ],
            "text/html": [
              "<table>\n",
              "    <thead>\n",
              "        <tr>\n",
              "            <th>Movie_id</th>\n",
              "            <th>Title</th>\n",
              "            <th>Rating</th>\n",
              "            <th>TotalVotes</th>\n",
              "            <th>MetaCritic</th>\n",
              "            <th>Budget</th>\n",
              "            <th>Runtime</th>\n",
              "            <th>CVotes10</th>\n",
              "            <th>CVotes09</th>\n",
              "            <th>CVotes08</th>\n",
              "            <th>CVotes07</th>\n",
              "            <th>CVotes06</th>\n",
              "            <th>CVotes05</th>\n",
              "            <th>CVotes04</th>\n",
              "            <th>CVotes03</th>\n",
              "            <th>CVotes02</th>\n",
              "            <th>CVotes01</th>\n",
              "            <th>CVotesMale</th>\n",
              "            <th>CVotesFemale</th>\n",
              "            <th>CVotesU18</th>\n",
              "            <th>CVotesU18M</th>\n",
              "            <th>CVotesU18F</th>\n",
              "            <th>CVotes1829</th>\n",
              "            <th>CVotes1829M</th>\n",
              "            <th>CVotes1829F</th>\n",
              "            <th>CVotes3044</th>\n",
              "            <th>CVotes3044M</th>\n",
              "            <th>CVotes3044F</th>\n",
              "            <th>CVotes45A</th>\n",
              "            <th>CVotes45AM</th>\n",
              "            <th>CVotes45AF</th>\n",
              "            <th>CVotes1000</th>\n",
              "            <th>CVotesUS</th>\n",
              "            <th>CVotesnUS</th>\n",
              "            <th>VotesM</th>\n",
              "            <th>VotesF</th>\n",
              "            <th>VotesU18</th>\n",
              "            <th>VotesU18M</th>\n",
              "            <th>VotesU18F</th>\n",
              "            <th>Votes1829</th>\n",
              "            <th>Votes1829M</th>\n",
              "            <th>Votes1829F</th>\n",
              "            <th>Votes3044</th>\n",
              "            <th>Votes3044M</th>\n",
              "            <th>Votes3044F</th>\n",
              "            <th>Votes45A</th>\n",
              "            <th>Votes45AM</th>\n",
              "            <th>Votes45AF</th>\n",
              "            <th>VotesIMDB</th>\n",
              "            <th>Votes1000</th>\n",
              "            <th>VotesUS</th>\n",
              "            <th>VotesnUS</th>\n",
              "        </tr>\n",
              "    </thead>\n",
              "    <tbody>\n",
              "        <tr>\n",
              "            <td>36809</td>\n",
              "            <td>12 Years a Slave (2013)</td>\n",
              "            <td>8.1</td>\n",
              "            <td>496092</td>\n",
              "            <td>96</td>\n",
              "            <td>20000000.0</td>\n",
              "            <td>134 min</td>\n",
              "            <td>75556</td>\n",
              "            <td>126223</td>\n",
              "            <td>161460</td>\n",
              "            <td>83070</td>\n",
              "            <td>27231</td>\n",
              "            <td>9603</td>\n",
              "            <td>4021</td>\n",
              "            <td>2420</td>\n",
              "            <td>1785</td>\n",
              "            <td>4739</td>\n",
              "            <td>313823</td>\n",
              "            <td>82012</td>\n",
              "            <td>1837</td>\n",
              "            <td>1363</td>\n",
              "            <td>457</td>\n",
              "            <td>200910</td>\n",
              "            <td>153669</td>\n",
              "            <td>45301</td>\n",
              "            <td>138762</td>\n",
              "            <td>112943</td>\n",
              "            <td>23895</td>\n",
              "            <td>29252</td>\n",
              "            <td>23072</td>\n",
              "            <td>5726</td>\n",
              "            <td>664</td>\n",
              "            <td>53328</td>\n",
              "            <td>224519.0</td>\n",
              "            <td>8.1</td>\n",
              "            <td>8.1</td>\n",
              "            <td>8.4</td>\n",
              "            <td>8.4</td>\n",
              "            <td>8.5</td>\n",
              "            <td>8.2</td>\n",
              "            <td>8.2</td>\n",
              "            <td>8.2</td>\n",
              "            <td>8.0</td>\n",
              "            <td>7.9</td>\n",
              "            <td>8.0</td>\n",
              "            <td>7.8</td>\n",
              "            <td>7.8</td>\n",
              "            <td>8.1</td>\n",
              "            <td>8.0</td>\n",
              "            <td>7.7</td>\n",
              "            <td>8.3</td>\n",
              "            <td>8.0</td>\n",
              "        </tr>\n",
              "        <tr>\n",
              "            <td>30114</td>\n",
              "            <td>127 Hours (2010)</td>\n",
              "            <td>7.6</td>\n",
              "            <td>297075</td>\n",
              "            <td>82</td>\n",
              "            <td>18000000.0</td>\n",
              "            <td>94 min</td>\n",
              "            <td>28939</td>\n",
              "            <td>44110</td>\n",
              "            <td>98845</td>\n",
              "            <td>78451</td>\n",
              "            <td>28394</td>\n",
              "            <td>9403</td>\n",
              "            <td>3796</td>\n",
              "            <td>1930</td>\n",
              "            <td>1161</td>\n",
              "            <td>2059</td>\n",
              "            <td>212866</td>\n",
              "            <td>44600</td>\n",
              "            <td>745</td>\n",
              "            <td>567</td>\n",
              "            <td>170</td>\n",
              "            <td>133336</td>\n",
              "            <td>106007</td>\n",
              "            <td>26152</td>\n",
              "            <td>102120</td>\n",
              "            <td>86609</td>\n",
              "            <td>14304</td>\n",
              "            <td>14895</td>\n",
              "            <td>12400</td>\n",
              "            <td>2261</td>\n",
              "            <td>649</td>\n",
              "            <td>38478</td>\n",
              "            <td>169745.0</td>\n",
              "            <td>7.6</td>\n",
              "            <td>7.6</td>\n",
              "            <td>7.9</td>\n",
              "            <td>7.9</td>\n",
              "            <td>7.9</td>\n",
              "            <td>7.7</td>\n",
              "            <td>7.8</td>\n",
              "            <td>7.7</td>\n",
              "            <td>7.5</td>\n",
              "            <td>7.5</td>\n",
              "            <td>7.5</td>\n",
              "            <td>7.3</td>\n",
              "            <td>7.3</td>\n",
              "            <td>7.5</td>\n",
              "            <td>7.6</td>\n",
              "            <td>7.0</td>\n",
              "            <td>7.7</td>\n",
              "            <td>7.6</td>\n",
              "        </tr>\n",
              "        <tr>\n",
              "            <td>37367</td>\n",
              "            <td>50/50 (2011)</td>\n",
              "            <td>7.7</td>\n",
              "            <td>283935</td>\n",
              "            <td>72</td>\n",
              "            <td>8000000.0</td>\n",
              "            <td>100 min</td>\n",
              "            <td>28304</td>\n",
              "            <td>47501</td>\n",
              "            <td>99524</td>\n",
              "            <td>71485</td>\n",
              "            <td>24252</td>\n",
              "            <td>7545</td>\n",
              "            <td>2381</td>\n",
              "            <td>1109</td>\n",
              "            <td>634</td>\n",
              "            <td>1202</td>\n",
              "            <td>188925</td>\n",
              "            <td>58348</td>\n",
              "            <td>506</td>\n",
              "            <td>348</td>\n",
              "            <td>153</td>\n",
              "            <td>132350</td>\n",
              "            <td>96269</td>\n",
              "            <td>34765</td>\n",
              "            <td>94745</td>\n",
              "            <td>75394</td>\n",
              "            <td>18163</td>\n",
              "            <td>12829</td>\n",
              "            <td>9912</td>\n",
              "            <td>2681</td>\n",
              "            <td>555</td>\n",
              "            <td>46947</td>\n",
              "            <td>147849.0</td>\n",
              "            <td>7.7</td>\n",
              "            <td>7.7</td>\n",
              "            <td>7.9</td>\n",
              "            <td>7.9</td>\n",
              "            <td>7.9</td>\n",
              "            <td>7.8</td>\n",
              "            <td>7.8</td>\n",
              "            <td>7.7</td>\n",
              "            <td>7.6</td>\n",
              "            <td>7.6</td>\n",
              "            <td>7.6</td>\n",
              "            <td>7.4</td>\n",
              "            <td>7.4</td>\n",
              "            <td>7.5</td>\n",
              "            <td>7.4</td>\n",
              "            <td>7.0</td>\n",
              "            <td>7.9</td>\n",
              "            <td>7.6</td>\n",
              "        </tr>\n",
              "        <tr>\n",
              "            <td>49473</td>\n",
              "            <td>About Time (2013)</td>\n",
              "            <td>7.8</td>\n",
              "            <td>225412</td>\n",
              "            <td></td>\n",
              "            <td>12000000.0</td>\n",
              "            <td>123 min</td>\n",
              "            <td>38556</td>\n",
              "            <td>43170</td>\n",
              "            <td>70850</td>\n",
              "            <td>45487</td>\n",
              "            <td>16542</td>\n",
              "            <td>5673</td>\n",
              "            <td>2210</td>\n",
              "            <td>1084</td>\n",
              "            <td>664</td>\n",
              "            <td>1182</td>\n",
              "            <td>126718</td>\n",
              "            <td>58098</td>\n",
              "            <td>654</td>\n",
              "            <td>325</td>\n",
              "            <td>321</td>\n",
              "            <td>92940</td>\n",
              "            <td>57778</td>\n",
              "            <td>34126</td>\n",
              "            <td>67477</td>\n",
              "            <td>50212</td>\n",
              "            <td>16222</td>\n",
              "            <td>13973</td>\n",
              "            <td>10690</td>\n",
              "            <td>3026</td>\n",
              "            <td>475</td>\n",
              "            <td>20450</td>\n",
              "            <td>111670.0</td>\n",
              "            <td>7.8</td>\n",
              "            <td>7.9</td>\n",
              "            <td>8.2</td>\n",
              "            <td>8.1</td>\n",
              "            <td>8.3</td>\n",
              "            <td>8.0</td>\n",
              "            <td>8.0</td>\n",
              "            <td>8.0</td>\n",
              "            <td>7.6</td>\n",
              "            <td>7.6</td>\n",
              "            <td>7.7</td>\n",
              "            <td>7.6</td>\n",
              "            <td>7.5</td>\n",
              "            <td>7.8</td>\n",
              "            <td>7.7</td>\n",
              "            <td>6.9</td>\n",
              "            <td>7.8</td>\n",
              "            <td>7.7</td>\n",
              "        </tr>\n",
              "        <tr>\n",
              "            <td>14867</td>\n",
              "            <td>Amour (2012)</td>\n",
              "            <td>7.9</td>\n",
              "            <td>76121</td>\n",
              "            <td>94</td>\n",
              "            <td>8900000.0</td>\n",
              "            <td>127 min</td>\n",
              "            <td>11093</td>\n",
              "            <td>15944</td>\n",
              "            <td>22942</td>\n",
              "            <td>14187</td>\n",
              "            <td>5945</td>\n",
              "            <td>2585</td>\n",
              "            <td>1188</td>\n",
              "            <td>710</td>\n",
              "            <td>534</td>\n",
              "            <td>995</td>\n",
              "            <td>49808</td>\n",
              "            <td>16719</td>\n",
              "            <td>121</td>\n",
              "            <td>95</td>\n",
              "            <td>24</td>\n",
              "            <td>28593</td>\n",
              "            <td>20107</td>\n",
              "            <td>8167</td>\n",
              "            <td>28691</td>\n",
              "            <td>21990</td>\n",
              "            <td>6269</td>\n",
              "            <td>7425</td>\n",
              "            <td>5803</td>\n",
              "            <td>1490</td>\n",
              "            <td>391</td>\n",
              "            <td>7959</td>\n",
              "            <td>46138.0</td>\n",
              "            <td>7.8</td>\n",
              "            <td>7.9</td>\n",
              "            <td>8.6</td>\n",
              "            <td>8.7</td>\n",
              "            <td>8.5</td>\n",
              "            <td>8.0</td>\n",
              "            <td>8.0</td>\n",
              "            <td>7.9</td>\n",
              "            <td>7.7</td>\n",
              "            <td>7.7</td>\n",
              "            <td>7.9</td>\n",
              "            <td>7.9</td>\n",
              "            <td>7.8</td>\n",
              "            <td>8.1</td>\n",
              "            <td>6.6</td>\n",
              "            <td>7.2</td>\n",
              "            <td>7.9</td>\n",
              "            <td>7.8</td>\n",
              "        </tr>\n",
              "    </tbody>\n",
              "</table>"
            ]
          },
          "metadata": {},
          "execution_count": 4
        }
      ]
    },
    {
      "cell_type": "code",
      "source": [
        "%%sql\n",
        "\n",
        "SELECT * FROM earning LIMIT 5"
      ],
      "metadata": {
        "execution": {
          "iopub.status.busy": "2024-07-18T13:46:59.185063Z",
          "iopub.execute_input": "2024-07-18T13:46:59.185421Z",
          "iopub.status.idle": "2024-07-18T13:46:59.199073Z",
          "shell.execute_reply.started": "2024-07-18T13:46:59.185389Z",
          "shell.execute_reply": "2024-07-18T13:46:59.197754Z"
        },
        "trusted": true,
        "colab": {
          "base_uri": "https://localhost:8080/",
          "height": 196
        },
        "id": "ymDN5etmY6Ta",
        "outputId": "d34efc12-78a7-441b-dc1e-ea2632ee427d"
      },
      "execution_count": null,
      "outputs": [
        {
          "output_type": "stream",
          "name": "stdout",
          "text": [
            "   sqlite:///movie-Copia.sqlite\n",
            " * sqlite:///movie.sqlite\n",
            "Done.\n"
          ]
        },
        {
          "output_type": "execute_result",
          "data": {
            "text/plain": [
              "[('36809', 56671993, 187733202.0),\n",
              " ('30114', 18335230, 60738797.0),\n",
              " ('37367', 35014192, 39187783.0),\n",
              " ('49473', 15322921, 87100449.0),\n",
              " ('14867', 6739492, 19839492.0)]"
            ],
            "text/html": [
              "<table>\n",
              "    <thead>\n",
              "        <tr>\n",
              "            <th>Movie_id</th>\n",
              "            <th>Domestic</th>\n",
              "            <th>Worldwide</th>\n",
              "        </tr>\n",
              "    </thead>\n",
              "    <tbody>\n",
              "        <tr>\n",
              "            <td>36809</td>\n",
              "            <td>56671993</td>\n",
              "            <td>187733202.0</td>\n",
              "        </tr>\n",
              "        <tr>\n",
              "            <td>30114</td>\n",
              "            <td>18335230</td>\n",
              "            <td>60738797.0</td>\n",
              "        </tr>\n",
              "        <tr>\n",
              "            <td>37367</td>\n",
              "            <td>35014192</td>\n",
              "            <td>39187783.0</td>\n",
              "        </tr>\n",
              "        <tr>\n",
              "            <td>49473</td>\n",
              "            <td>15322921</td>\n",
              "            <td>87100449.0</td>\n",
              "        </tr>\n",
              "        <tr>\n",
              "            <td>14867</td>\n",
              "            <td>6739492</td>\n",
              "            <td>19839492.0</td>\n",
              "        </tr>\n",
              "    </tbody>\n",
              "</table>"
            ]
          },
          "metadata": {},
          "execution_count": 85
        }
      ]
    },
    {
      "cell_type": "code",
      "source": [
        "%%sql\n",
        "\n",
        "SELECT * FROM genre LIMIT 5"
      ],
      "metadata": {
        "execution": {
          "iopub.status.busy": "2024-07-18T13:46:59.201031Z",
          "iopub.execute_input": "2024-07-18T13:46:59.201485Z",
          "iopub.status.idle": "2024-07-18T13:46:59.214927Z",
          "shell.execute_reply.started": "2024-07-18T13:46:59.201444Z",
          "shell.execute_reply": "2024-07-18T13:46:59.213661Z"
        },
        "trusted": true,
        "colab": {
          "base_uri": "https://localhost:8080/",
          "height": 182
        },
        "id": "Rzwmi6XPY6Ta",
        "outputId": "a1e1ec98-6337-4a6f-8622-15a7934883f9"
      },
      "execution_count": null,
      "outputs": [
        {
          "output_type": "stream",
          "name": "stdout",
          "text": [
            " * sqlite:///movie.sqlite\n",
            "Done.\n"
          ]
        },
        {
          "output_type": "execute_result",
          "data": {
            "text/plain": [
              "[('36809', 'Biography'),\n",
              " ('30114', 'Adventure'),\n",
              " ('37367', 'Comedy'),\n",
              " ('49473', 'Comedy'),\n",
              " ('14867', 'Drama')]"
            ],
            "text/html": [
              "<table>\n",
              "    <thead>\n",
              "        <tr>\n",
              "            <th>Movie_id</th>\n",
              "            <th>genre</th>\n",
              "        </tr>\n",
              "    </thead>\n",
              "    <tbody>\n",
              "        <tr>\n",
              "            <td>36809</td>\n",
              "            <td>Biography</td>\n",
              "        </tr>\n",
              "        <tr>\n",
              "            <td>30114</td>\n",
              "            <td>Adventure</td>\n",
              "        </tr>\n",
              "        <tr>\n",
              "            <td>37367</td>\n",
              "            <td>Comedy</td>\n",
              "        </tr>\n",
              "        <tr>\n",
              "            <td>49473</td>\n",
              "            <td>Comedy</td>\n",
              "        </tr>\n",
              "        <tr>\n",
              "            <td>14867</td>\n",
              "            <td>Drama</td>\n",
              "        </tr>\n",
              "    </tbody>\n",
              "</table>"
            ]
          },
          "metadata": {},
          "execution_count": 5
        }
      ]
    },
    {
      "cell_type": "markdown",
      "source": [
        "### 1.1 Verificando o total de linhas e se há valores duplicados"
      ],
      "metadata": {
        "id": "S4VFLZH9Y6Ta"
      }
    },
    {
      "cell_type": "markdown",
      "source": [
        "**IMDB**"
      ],
      "metadata": {
        "id": "chxRBVDGY6Tb"
      }
    },
    {
      "cell_type": "code",
      "source": [
        "%%sql\n",
        "\n",
        "SELECT\n",
        "COUNT(*) as Qtde_linhas,\n",
        "COUNT(DISTINCT Movie_id) as Contagem_unica_ids\n",
        "FROM\n",
        "IMDB"
      ],
      "metadata": {
        "execution": {
          "iopub.status.busy": "2024-07-18T13:49:24.958303Z",
          "iopub.execute_input": "2024-07-18T13:49:24.958800Z",
          "iopub.status.idle": "2024-07-18T13:49:24.975687Z",
          "shell.execute_reply.started": "2024-07-18T13:49:24.958760Z",
          "shell.execute_reply": "2024-07-18T13:49:24.974526Z"
        },
        "trusted": true,
        "colab": {
          "base_uri": "https://localhost:8080/",
          "height": 96
        },
        "id": "SVNIFWvnY6Tb",
        "outputId": "76378a1b-f0d3-4da4-ed45-08bf71f6d311"
      },
      "execution_count": null,
      "outputs": [
        {
          "output_type": "stream",
          "name": "stdout",
          "text": [
            " * sqlite:///movie.sqlite\n",
            "Done.\n"
          ]
        },
        {
          "output_type": "execute_result",
          "data": {
            "text/plain": [
              "[(117, 117)]"
            ],
            "text/html": [
              "<table>\n",
              "    <thead>\n",
              "        <tr>\n",
              "            <th>Qtde_linhas</th>\n",
              "            <th>Contagem_unica_ids</th>\n",
              "        </tr>\n",
              "    </thead>\n",
              "    <tbody>\n",
              "        <tr>\n",
              "            <td>117</td>\n",
              "            <td>117</td>\n",
              "        </tr>\n",
              "    </tbody>\n",
              "</table>"
            ]
          },
          "metadata": {},
          "execution_count": 6
        }
      ]
    },
    {
      "cell_type": "markdown",
      "source": [
        "-  Não há duplicidade de ID na tabela IMDB"
      ],
      "metadata": {
        "id": "tbbEVuO7Y6Tb"
      }
    },
    {
      "cell_type": "markdown",
      "source": [
        "**Earning**"
      ],
      "metadata": {
        "id": "sZsK7y1sY6Tb"
      }
    },
    {
      "cell_type": "code",
      "source": [
        "%%sql\n",
        "\n",
        "SELECT\n",
        "COUNT(*) as Qtde_linhas,\n",
        "COUNT(DISTINCT Movie_id) as Contagem_unica_ids\n",
        "FROM\n",
        "earning"
      ],
      "metadata": {
        "execution": {
          "iopub.status.busy": "2024-07-18T13:52:48.888685Z",
          "iopub.execute_input": "2024-07-18T13:52:48.890106Z",
          "iopub.status.idle": "2024-07-18T13:52:48.909151Z",
          "shell.execute_reply.started": "2024-07-18T13:52:48.890059Z",
          "shell.execute_reply": "2024-07-18T13:52:48.907960Z"
        },
        "trusted": true,
        "colab": {
          "base_uri": "https://localhost:8080/",
          "height": 96
        },
        "id": "QMnG8QW1Y6Tb",
        "outputId": "8f48f42b-8109-4c67-aa28-60fdb4f4741a"
      },
      "execution_count": null,
      "outputs": [
        {
          "output_type": "stream",
          "name": "stdout",
          "text": [
            " * sqlite:///movie.sqlite\n",
            "Done.\n"
          ]
        },
        {
          "output_type": "execute_result",
          "data": {
            "text/plain": [
              "[(117, 117)]"
            ],
            "text/html": [
              "<table>\n",
              "    <thead>\n",
              "        <tr>\n",
              "            <th>Qtde_linhas</th>\n",
              "            <th>Contagem_unica_ids</th>\n",
              "        </tr>\n",
              "    </thead>\n",
              "    <tbody>\n",
              "        <tr>\n",
              "            <td>117</td>\n",
              "            <td>117</td>\n",
              "        </tr>\n",
              "    </tbody>\n",
              "</table>"
            ]
          },
          "metadata": {},
          "execution_count": 7
        }
      ]
    },
    {
      "cell_type": "markdown",
      "source": [
        "\n",
        "*  Não há duplicidade de ID na tabela earning\n",
        "\n",
        "\n"
      ],
      "metadata": {
        "id": "YaK5I8uUY6Tc"
      }
    },
    {
      "cell_type": "markdown",
      "source": [
        "**Genre**"
      ],
      "metadata": {
        "id": "a0Sr0keSY6Tc"
      }
    },
    {
      "cell_type": "code",
      "source": [
        "%%sql\n",
        "\n",
        "SELECT\n",
        "COUNT(*) as Qtde_linhas,\n",
        "COUNT(DISTINCT Movie_id) as Contagem_unica_ids\n",
        "FROM\n",
        "genre"
      ],
      "metadata": {
        "execution": {
          "iopub.status.busy": "2024-07-18T13:53:24.943736Z",
          "iopub.execute_input": "2024-07-18T13:53:24.944193Z",
          "iopub.status.idle": "2024-07-18T13:53:24.963685Z",
          "shell.execute_reply.started": "2024-07-18T13:53:24.944155Z",
          "shell.execute_reply": "2024-07-18T13:53:24.962387Z"
        },
        "trusted": true,
        "colab": {
          "base_uri": "https://localhost:8080/",
          "height": 96
        },
        "id": "LnldOGGnY6Tc",
        "outputId": "fccccb12-e786-4fd5-c4ce-e14792c419ed"
      },
      "execution_count": null,
      "outputs": [
        {
          "output_type": "stream",
          "name": "stdout",
          "text": [
            " * sqlite:///movie.sqlite\n",
            "Done.\n"
          ]
        },
        {
          "output_type": "execute_result",
          "data": {
            "text/plain": [
              "[(351, 117)]"
            ],
            "text/html": [
              "<table>\n",
              "    <thead>\n",
              "        <tr>\n",
              "            <th>Qtde_linhas</th>\n",
              "            <th>Contagem_unica_ids</th>\n",
              "        </tr>\n",
              "    </thead>\n",
              "    <tbody>\n",
              "        <tr>\n",
              "            <td>351</td>\n",
              "            <td>117</td>\n",
              "        </tr>\n",
              "    </tbody>\n",
              "</table>"
            ]
          },
          "metadata": {},
          "execution_count": 8
        }
      ]
    },
    {
      "cell_type": "markdown",
      "source": [
        "* Identificado que ocorre repetição de valores, mas também que todos os 117 ids aparecem alguma vez."
      ],
      "metadata": {
        "id": "0-gCIGcLY6Tc"
      }
    },
    {
      "cell_type": "code",
      "source": [
        "%%sql\n",
        "\n",
        "SELECT Movie_id,\n",
        "COUNT(*) AS Contagem\n",
        "FROM genre\n",
        "GROUP BY Movie_id\n",
        "ORDER BY Contagem DESC\n",
        "LIMIT 20\n",
        "\n",
        "\n"
      ],
      "metadata": {
        "execution": {
          "iopub.status.busy": "2024-07-18T14:00:16.940995Z",
          "iopub.execute_input": "2024-07-18T14:00:16.941413Z",
          "iopub.status.idle": "2024-07-18T14:00:16.961286Z",
          "shell.execute_reply.started": "2024-07-18T14:00:16.941383Z",
          "shell.execute_reply": "2024-07-18T14:00:16.960084Z"
        },
        "trusted": true,
        "colab": {
          "base_uri": "https://localhost:8080/",
          "height": 502
        },
        "id": "IA3nNND6Y6Tc",
        "outputId": "8e8ce481-cd97-4fac-e142-eaa97e9f71d0"
      },
      "execution_count": null,
      "outputs": [
        {
          "output_type": "stream",
          "name": "stdout",
          "text": [
            " * sqlite:///movie.sqlite\n",
            "Done.\n"
          ]
        },
        {
          "output_type": "execute_result",
          "data": {
            "text/plain": [
              "[('49590', 3),\n",
              " ('49518', 3),\n",
              " ('49473', 3),\n",
              " ('48626', 3),\n",
              " ('48554', 3),\n",
              " ('48102', 3),\n",
              " ('47616', 3),\n",
              " ('47579', 3),\n",
              " ('47403', 3),\n",
              " ('47323', 3),\n",
              " ('47074', 3),\n",
              " ('46900', 3),\n",
              " ('46824', 3),\n",
              " ('45458', 3),\n",
              " ('45231', 3),\n",
              " ('44738', 3),\n",
              " ('44316', 3),\n",
              " ('44253', 3),\n",
              " ('44160', 3),\n",
              " ('43526', 3)]"
            ],
            "text/html": [
              "<table>\n",
              "    <thead>\n",
              "        <tr>\n",
              "            <th>Movie_id</th>\n",
              "            <th>Contagem</th>\n",
              "        </tr>\n",
              "    </thead>\n",
              "    <tbody>\n",
              "        <tr>\n",
              "            <td>49590</td>\n",
              "            <td>3</td>\n",
              "        </tr>\n",
              "        <tr>\n",
              "            <td>49518</td>\n",
              "            <td>3</td>\n",
              "        </tr>\n",
              "        <tr>\n",
              "            <td>49473</td>\n",
              "            <td>3</td>\n",
              "        </tr>\n",
              "        <tr>\n",
              "            <td>48626</td>\n",
              "            <td>3</td>\n",
              "        </tr>\n",
              "        <tr>\n",
              "            <td>48554</td>\n",
              "            <td>3</td>\n",
              "        </tr>\n",
              "        <tr>\n",
              "            <td>48102</td>\n",
              "            <td>3</td>\n",
              "        </tr>\n",
              "        <tr>\n",
              "            <td>47616</td>\n",
              "            <td>3</td>\n",
              "        </tr>\n",
              "        <tr>\n",
              "            <td>47579</td>\n",
              "            <td>3</td>\n",
              "        </tr>\n",
              "        <tr>\n",
              "            <td>47403</td>\n",
              "            <td>3</td>\n",
              "        </tr>\n",
              "        <tr>\n",
              "            <td>47323</td>\n",
              "            <td>3</td>\n",
              "        </tr>\n",
              "        <tr>\n",
              "            <td>47074</td>\n",
              "            <td>3</td>\n",
              "        </tr>\n",
              "        <tr>\n",
              "            <td>46900</td>\n",
              "            <td>3</td>\n",
              "        </tr>\n",
              "        <tr>\n",
              "            <td>46824</td>\n",
              "            <td>3</td>\n",
              "        </tr>\n",
              "        <tr>\n",
              "            <td>45458</td>\n",
              "            <td>3</td>\n",
              "        </tr>\n",
              "        <tr>\n",
              "            <td>45231</td>\n",
              "            <td>3</td>\n",
              "        </tr>\n",
              "        <tr>\n",
              "            <td>44738</td>\n",
              "            <td>3</td>\n",
              "        </tr>\n",
              "        <tr>\n",
              "            <td>44316</td>\n",
              "            <td>3</td>\n",
              "        </tr>\n",
              "        <tr>\n",
              "            <td>44253</td>\n",
              "            <td>3</td>\n",
              "        </tr>\n",
              "        <tr>\n",
              "            <td>44160</td>\n",
              "            <td>3</td>\n",
              "        </tr>\n",
              "        <tr>\n",
              "            <td>43526</td>\n",
              "            <td>3</td>\n",
              "        </tr>\n",
              "    </tbody>\n",
              "</table>"
            ]
          },
          "metadata": {},
          "execution_count": 9
        }
      ]
    },
    {
      "cell_type": "markdown",
      "source": [
        "*  Foi identificado que os ids aparecem mais de uma vez, mas é necessário verificar se a linha toda se repete ou se há filmes com mais de um gênero."
      ],
      "metadata": {
        "id": "FatXZ4ePY6Tc"
      }
    },
    {
      "cell_type": "code",
      "source": [
        "%%sql\n",
        "\n",
        "SELECT Movie_id, genre\n",
        "FROM genre\n",
        "WHERE Movie_id IN (\n",
        "SELECT Movie_id\n",
        "FROM genre\n",
        "GROUP BY Movie_id\n",
        "HAVING COUNT(*) > 1\n",
        ")\n",
        "ORDER BY Movie_id, genre\n",
        "LIMIT 20"
      ],
      "metadata": {
        "execution": {
          "iopub.status.busy": "2024-07-18T14:15:19.560959Z",
          "iopub.execute_input": "2024-07-18T14:15:19.561443Z",
          "iopub.status.idle": "2024-07-18T14:15:19.580073Z",
          "shell.execute_reply.started": "2024-07-18T14:15:19.561408Z",
          "shell.execute_reply": "2024-07-18T14:15:19.578684Z"
        },
        "trusted": true,
        "colab": {
          "base_uri": "https://localhost:8080/",
          "height": 502
        },
        "id": "7YBBt2CAY6Td",
        "outputId": "83092bca-9ba2-48b3-e269-58911a7503fb"
      },
      "execution_count": null,
      "outputs": [
        {
          "output_type": "stream",
          "name": "stdout",
          "text": [
            " * sqlite:///movie.sqlite\n",
            "Done.\n"
          ]
        },
        {
          "output_type": "execute_result",
          "data": {
            "text/plain": [
              "[('10015', ''),\n",
              " ('10015', 'Drama'),\n",
              " ('10015', 'Thriller'),\n",
              " ('10023', 'Adventure'),\n",
              " ('10023', 'Animation'),\n",
              " ('10023', 'Comedy'),\n",
              " ('10099', 'Action'),\n",
              " ('10099', 'Adventure'),\n",
              " ('10099', 'Animation'),\n",
              " ('10454', ''),\n",
              " ('10454', 'Action'),\n",
              " ('10454', 'Sci-Fi'),\n",
              " ('10617', 'Drama'),\n",
              " ('10617', 'History'),\n",
              " ('10617', 'Thriller'),\n",
              " ('11173', 'Biography'),\n",
              " ('11173', 'Drama'),\n",
              " ('11173', 'History'),\n",
              " ('11289', 'Action'),\n",
              " ('11289', 'Adventure')]"
            ],
            "text/html": [
              "<table>\n",
              "    <thead>\n",
              "        <tr>\n",
              "            <th>Movie_id</th>\n",
              "            <th>genre</th>\n",
              "        </tr>\n",
              "    </thead>\n",
              "    <tbody>\n",
              "        <tr>\n",
              "            <td>10015</td>\n",
              "            <td></td>\n",
              "        </tr>\n",
              "        <tr>\n",
              "            <td>10015</td>\n",
              "            <td>Drama</td>\n",
              "        </tr>\n",
              "        <tr>\n",
              "            <td>10015</td>\n",
              "            <td>Thriller</td>\n",
              "        </tr>\n",
              "        <tr>\n",
              "            <td>10023</td>\n",
              "            <td>Adventure</td>\n",
              "        </tr>\n",
              "        <tr>\n",
              "            <td>10023</td>\n",
              "            <td>Animation</td>\n",
              "        </tr>\n",
              "        <tr>\n",
              "            <td>10023</td>\n",
              "            <td>Comedy</td>\n",
              "        </tr>\n",
              "        <tr>\n",
              "            <td>10099</td>\n",
              "            <td>Action</td>\n",
              "        </tr>\n",
              "        <tr>\n",
              "            <td>10099</td>\n",
              "            <td>Adventure</td>\n",
              "        </tr>\n",
              "        <tr>\n",
              "            <td>10099</td>\n",
              "            <td>Animation</td>\n",
              "        </tr>\n",
              "        <tr>\n",
              "            <td>10454</td>\n",
              "            <td></td>\n",
              "        </tr>\n",
              "        <tr>\n",
              "            <td>10454</td>\n",
              "            <td>Action</td>\n",
              "        </tr>\n",
              "        <tr>\n",
              "            <td>10454</td>\n",
              "            <td>Sci-Fi</td>\n",
              "        </tr>\n",
              "        <tr>\n",
              "            <td>10617</td>\n",
              "            <td>Drama</td>\n",
              "        </tr>\n",
              "        <tr>\n",
              "            <td>10617</td>\n",
              "            <td>History</td>\n",
              "        </tr>\n",
              "        <tr>\n",
              "            <td>10617</td>\n",
              "            <td>Thriller</td>\n",
              "        </tr>\n",
              "        <tr>\n",
              "            <td>11173</td>\n",
              "            <td>Biography</td>\n",
              "        </tr>\n",
              "        <tr>\n",
              "            <td>11173</td>\n",
              "            <td>Drama</td>\n",
              "        </tr>\n",
              "        <tr>\n",
              "            <td>11173</td>\n",
              "            <td>History</td>\n",
              "        </tr>\n",
              "        <tr>\n",
              "            <td>11289</td>\n",
              "            <td>Action</td>\n",
              "        </tr>\n",
              "        <tr>\n",
              "            <td>11289</td>\n",
              "            <td>Adventure</td>\n",
              "        </tr>\n",
              "    </tbody>\n",
              "</table>"
            ]
          },
          "metadata": {},
          "execution_count": 10
        }
      ]
    },
    {
      "cell_type": "markdown",
      "source": [
        "* Com essa visualização, agrupando os ids e visualizando seus gêneros, identificamos duas situações:\n",
        "\n",
        "  - Coluna 'genre' com valores nulos.\n",
        "  - Mais de um gênero para um único filme (isso é comum).\n"
      ],
      "metadata": {
        "id": "i7MkDicxY6Td"
      }
    },
    {
      "cell_type": "markdown",
      "source": [
        "### 1.1.2 Excluindo as linhas com valores nulos"
      ],
      "metadata": {
        "id": "PKuWibAnY6Td"
      }
    },
    {
      "cell_type": "markdown",
      "source": [
        "*  Como na tabela 'genre' só temos dois valores, o 'Movie_id' e o 'genre', pode-se excluir as linhas com valor vazio em 'genre'.\n",
        "\n"
      ],
      "metadata": {
        "id": "yegSXTaJY6Td"
      }
    },
    {
      "cell_type": "code",
      "source": [
        "%%sql\n",
        "\n",
        "DELETE FROM genre\n",
        "WHERE genre IS NULL OR genre = ''\n"
      ],
      "metadata": {
        "execution": {
          "iopub.status.busy": "2024-07-18T14:55:49.710225Z",
          "iopub.execute_input": "2024-07-18T14:55:49.711039Z",
          "iopub.status.idle": "2024-07-18T14:55:49.719162Z",
          "shell.execute_reply.started": "2024-07-18T14:55:49.710998Z",
          "shell.execute_reply": "2024-07-18T14:55:49.717860Z"
        },
        "trusted": true,
        "colab": {
          "base_uri": "https://localhost:8080/"
        },
        "id": "FGgzgacHY6Td",
        "outputId": "867ee397-8b0e-4730-9c24-fce9c5207bf7",
        "collapsed": true
      },
      "execution_count": 87,
      "outputs": [
        {
          "output_type": "stream",
          "name": "stdout",
          "text": [
            " * sqlite:///movie.sqlite\n",
            "0 rows affected.\n"
          ]
        },
        {
          "output_type": "execute_result",
          "data": {
            "text/plain": [
              "[]"
            ]
          },
          "metadata": {},
          "execution_count": 87
        }
      ]
    },
    {
      "cell_type": "markdown",
      "source": [
        "\n",
        "* Visualizando Resultado, vemos que os valores nulos não aparecem mais.\n"
      ],
      "metadata": {
        "id": "IIHckWv2hW7t"
      }
    },
    {
      "cell_type": "code",
      "source": [
        "%%sql\n",
        "\n",
        "SELECT Movie_id, genre\n",
        "FROM genre\n",
        "WHERE Movie_id IN (\n",
        "    SELECT Movie_id\n",
        "    FROM genre\n",
        "    GROUP BY Movie_id\n",
        "    HAVING COUNT(*) > 1\n",
        ")\n",
        "ORDER BY Movie_id, genre\n",
        "LIMIT 20"
      ],
      "metadata": {
        "colab": {
          "base_uri": "https://localhost:8080/",
          "height": 502
        },
        "id": "99njR3N8hVf7",
        "outputId": "53470fd9-bfd7-4f89-ab47-75b102724b63"
      },
      "execution_count": null,
      "outputs": [
        {
          "output_type": "stream",
          "name": "stdout",
          "text": [
            " * sqlite:///movie.sqlite\n",
            "Done.\n"
          ]
        },
        {
          "output_type": "execute_result",
          "data": {
            "text/plain": [
              "[('10015', 'Drama'),\n",
              " ('10015', 'Thriller'),\n",
              " ('10023', 'Adventure'),\n",
              " ('10023', 'Animation'),\n",
              " ('10023', 'Comedy'),\n",
              " ('10099', 'Action'),\n",
              " ('10099', 'Adventure'),\n",
              " ('10099', 'Animation'),\n",
              " ('10454', 'Action'),\n",
              " ('10454', 'Sci-Fi'),\n",
              " ('10617', 'Drama'),\n",
              " ('10617', 'History'),\n",
              " ('10617', 'Thriller'),\n",
              " ('11173', 'Biography'),\n",
              " ('11173', 'Drama'),\n",
              " ('11173', 'History'),\n",
              " ('11289', 'Action'),\n",
              " ('11289', 'Adventure'),\n",
              " ('11289', 'Sci-Fi'),\n",
              " ('11928', 'Action')]"
            ],
            "text/html": [
              "<table>\n",
              "    <thead>\n",
              "        <tr>\n",
              "            <th>Movie_id</th>\n",
              "            <th>genre</th>\n",
              "        </tr>\n",
              "    </thead>\n",
              "    <tbody>\n",
              "        <tr>\n",
              "            <td>10015</td>\n",
              "            <td>Drama</td>\n",
              "        </tr>\n",
              "        <tr>\n",
              "            <td>10015</td>\n",
              "            <td>Thriller</td>\n",
              "        </tr>\n",
              "        <tr>\n",
              "            <td>10023</td>\n",
              "            <td>Adventure</td>\n",
              "        </tr>\n",
              "        <tr>\n",
              "            <td>10023</td>\n",
              "            <td>Animation</td>\n",
              "        </tr>\n",
              "        <tr>\n",
              "            <td>10023</td>\n",
              "            <td>Comedy</td>\n",
              "        </tr>\n",
              "        <tr>\n",
              "            <td>10099</td>\n",
              "            <td>Action</td>\n",
              "        </tr>\n",
              "        <tr>\n",
              "            <td>10099</td>\n",
              "            <td>Adventure</td>\n",
              "        </tr>\n",
              "        <tr>\n",
              "            <td>10099</td>\n",
              "            <td>Animation</td>\n",
              "        </tr>\n",
              "        <tr>\n",
              "            <td>10454</td>\n",
              "            <td>Action</td>\n",
              "        </tr>\n",
              "        <tr>\n",
              "            <td>10454</td>\n",
              "            <td>Sci-Fi</td>\n",
              "        </tr>\n",
              "        <tr>\n",
              "            <td>10617</td>\n",
              "            <td>Drama</td>\n",
              "        </tr>\n",
              "        <tr>\n",
              "            <td>10617</td>\n",
              "            <td>History</td>\n",
              "        </tr>\n",
              "        <tr>\n",
              "            <td>10617</td>\n",
              "            <td>Thriller</td>\n",
              "        </tr>\n",
              "        <tr>\n",
              "            <td>11173</td>\n",
              "            <td>Biography</td>\n",
              "        </tr>\n",
              "        <tr>\n",
              "            <td>11173</td>\n",
              "            <td>Drama</td>\n",
              "        </tr>\n",
              "        <tr>\n",
              "            <td>11173</td>\n",
              "            <td>History</td>\n",
              "        </tr>\n",
              "        <tr>\n",
              "            <td>11289</td>\n",
              "            <td>Action</td>\n",
              "        </tr>\n",
              "        <tr>\n",
              "            <td>11289</td>\n",
              "            <td>Adventure</td>\n",
              "        </tr>\n",
              "        <tr>\n",
              "            <td>11289</td>\n",
              "            <td>Sci-Fi</td>\n",
              "        </tr>\n",
              "        <tr>\n",
              "            <td>11928</td>\n",
              "            <td>Action</td>\n",
              "        </tr>\n",
              "    </tbody>\n",
              "</table>"
            ]
          },
          "metadata": {},
          "execution_count": 12
        }
      ]
    },
    {
      "cell_type": "markdown",
      "source": [
        "### 1.2 Verificando valores inconsistentes ou fora do esperado"
      ],
      "metadata": {
        "id": "u8mvyte9kUOx"
      }
    },
    {
      "cell_type": "markdown",
      "source": [
        "**Verificando valores de rating fora do intervalo esperado (1 a 10)**"
      ],
      "metadata": {
        "id": "UoTdqT3alLbO"
      }
    },
    {
      "cell_type": "code",
      "source": [
        "%%sql\n",
        "\n",
        "SELECT *\n",
        "FROM IMDB\n",
        "WHERE\n",
        "Rating < 1 OR Rating > 10"
      ],
      "metadata": {
        "colab": {
          "base_uri": "https://localhost:8080/",
          "height": 95
        },
        "id": "sIZ8QMNjlR1e",
        "outputId": "f446c99a-a32e-4a04-a99d-386504f235f9"
      },
      "execution_count": null,
      "outputs": [
        {
          "output_type": "stream",
          "name": "stdout",
          "text": [
            " * sqlite:///movie.sqlite\n",
            "Done.\n"
          ]
        },
        {
          "output_type": "execute_result",
          "data": {
            "text/plain": [
              "[]"
            ],
            "text/html": [
              "<table>\n",
              "    <thead>\n",
              "        <tr>\n",
              "            <th>Movie_id</th>\n",
              "            <th>Title</th>\n",
              "            <th>Rating</th>\n",
              "            <th>TotalVotes</th>\n",
              "            <th>MetaCritic</th>\n",
              "            <th>Budget</th>\n",
              "            <th>Runtime</th>\n",
              "            <th>CVotes10</th>\n",
              "            <th>CVotes09</th>\n",
              "            <th>CVotes08</th>\n",
              "            <th>CVotes07</th>\n",
              "            <th>CVotes06</th>\n",
              "            <th>CVotes05</th>\n",
              "            <th>CVotes04</th>\n",
              "            <th>CVotes03</th>\n",
              "            <th>CVotes02</th>\n",
              "            <th>CVotes01</th>\n",
              "            <th>CVotesMale</th>\n",
              "            <th>CVotesFemale</th>\n",
              "            <th>CVotesU18</th>\n",
              "            <th>CVotesU18M</th>\n",
              "            <th>CVotesU18F</th>\n",
              "            <th>CVotes1829</th>\n",
              "            <th>CVotes1829M</th>\n",
              "            <th>CVotes1829F</th>\n",
              "            <th>CVotes3044</th>\n",
              "            <th>CVotes3044M</th>\n",
              "            <th>CVotes3044F</th>\n",
              "            <th>CVotes45A</th>\n",
              "            <th>CVotes45AM</th>\n",
              "            <th>CVotes45AF</th>\n",
              "            <th>CVotes1000</th>\n",
              "            <th>CVotesUS</th>\n",
              "            <th>CVotesnUS</th>\n",
              "            <th>VotesM</th>\n",
              "            <th>VotesF</th>\n",
              "            <th>VotesU18</th>\n",
              "            <th>VotesU18M</th>\n",
              "            <th>VotesU18F</th>\n",
              "            <th>Votes1829</th>\n",
              "            <th>Votes1829M</th>\n",
              "            <th>Votes1829F</th>\n",
              "            <th>Votes3044</th>\n",
              "            <th>Votes3044M</th>\n",
              "            <th>Votes3044F</th>\n",
              "            <th>Votes45A</th>\n",
              "            <th>Votes45AM</th>\n",
              "            <th>Votes45AF</th>\n",
              "            <th>VotesIMDB</th>\n",
              "            <th>Votes1000</th>\n",
              "            <th>VotesUS</th>\n",
              "            <th>VotesnUS</th>\n",
              "        </tr>\n",
              "    </thead>\n",
              "    <tbody>\n",
              "    </tbody>\n",
              "</table>"
            ]
          },
          "metadata": {},
          "execution_count": 13
        }
      ]
    },
    {
      "cell_type": "markdown",
      "source": [
        "- Não há ocorrência de valores fora do rating"
      ],
      "metadata": {
        "id": "54KGhebIlhJZ"
      }
    },
    {
      "cell_type": "markdown",
      "source": [
        "**Verificando valores negativos em receitas (Domestic e Worldwide)**"
      ],
      "metadata": {
        "id": "VIxcZUOVluNf"
      }
    },
    {
      "cell_type": "code",
      "source": [
        "%%sql\n",
        "\n",
        "SELECT *\n",
        "FROM earning\n",
        "WHERE Domestic < 0 OR Worldwide < 0"
      ],
      "metadata": {
        "colab": {
          "base_uri": "https://localhost:8080/",
          "height": 75
        },
        "id": "fjWU1PEOmE3s",
        "outputId": "db62b119-1fe7-4b4f-9b59-2bd049859ad4"
      },
      "execution_count": null,
      "outputs": [
        {
          "output_type": "stream",
          "name": "stdout",
          "text": [
            " * sqlite:///movie.sqlite\n",
            "Done.\n"
          ]
        },
        {
          "output_type": "execute_result",
          "data": {
            "text/plain": [
              "[]"
            ],
            "text/html": [
              "<table>\n",
              "    <thead>\n",
              "        <tr>\n",
              "            <th>Movie_id</th>\n",
              "            <th>Domestic</th>\n",
              "            <th>Worldwide</th>\n",
              "        </tr>\n",
              "    </thead>\n",
              "    <tbody>\n",
              "    </tbody>\n",
              "</table>"
            ]
          },
          "metadata": {},
          "execution_count": 14
        }
      ]
    },
    {
      "cell_type": "markdown",
      "source": [
        "- Não há ocorrência de valores negativos"
      ],
      "metadata": {
        "id": "ivWGOPPjmQtn"
      }
    },
    {
      "cell_type": "markdown",
      "source": [
        "**Verificando valores de gênero não padronizados**"
      ],
      "metadata": {
        "id": "3csvlVCLmdEa"
      }
    },
    {
      "cell_type": "code",
      "source": [
        "\n",
        "%%sql\n",
        "\n",
        "SELECT DISTINCT genre\n",
        "FROM genre\n"
      ],
      "metadata": {
        "colab": {
          "base_uri": "https://localhost:8080/",
          "height": 502
        },
        "id": "SZgoD5bGkVi_",
        "outputId": "68a62b4d-6003-433f-e540-2e8a68f1688c"
      },
      "execution_count": null,
      "outputs": [
        {
          "output_type": "stream",
          "name": "stdout",
          "text": [
            " * sqlite:///movie.sqlite\n",
            "Done.\n"
          ]
        },
        {
          "output_type": "execute_result",
          "data": {
            "text/plain": [
              "[('Biography',),\n",
              " ('Adventure',),\n",
              " ('Comedy',),\n",
              " ('Drama',),\n",
              " ('Action',),\n",
              " ('Animation',),\n",
              " ('Crime',),\n",
              " ('Mystery',),\n",
              " ('Romance',),\n",
              " ('Thriller',),\n",
              " ('History',),\n",
              " ('Sport',),\n",
              " ('Western',),\n",
              " ('Sci-Fi',),\n",
              " ('Family',),\n",
              " ('Musical',),\n",
              " ('Fantasy',),\n",
              " ('War',),\n",
              " ('Horror',),\n",
              " ('Music',)]"
            ],
            "text/html": [
              "<table>\n",
              "    <thead>\n",
              "        <tr>\n",
              "            <th>genre</th>\n",
              "        </tr>\n",
              "    </thead>\n",
              "    <tbody>\n",
              "        <tr>\n",
              "            <td>Biography</td>\n",
              "        </tr>\n",
              "        <tr>\n",
              "            <td>Adventure</td>\n",
              "        </tr>\n",
              "        <tr>\n",
              "            <td>Comedy</td>\n",
              "        </tr>\n",
              "        <tr>\n",
              "            <td>Drama</td>\n",
              "        </tr>\n",
              "        <tr>\n",
              "            <td>Action</td>\n",
              "        </tr>\n",
              "        <tr>\n",
              "            <td>Animation</td>\n",
              "        </tr>\n",
              "        <tr>\n",
              "            <td>Crime</td>\n",
              "        </tr>\n",
              "        <tr>\n",
              "            <td>Mystery</td>\n",
              "        </tr>\n",
              "        <tr>\n",
              "            <td>Romance</td>\n",
              "        </tr>\n",
              "        <tr>\n",
              "            <td>Thriller</td>\n",
              "        </tr>\n",
              "        <tr>\n",
              "            <td>History</td>\n",
              "        </tr>\n",
              "        <tr>\n",
              "            <td>Sport</td>\n",
              "        </tr>\n",
              "        <tr>\n",
              "            <td>Western</td>\n",
              "        </tr>\n",
              "        <tr>\n",
              "            <td>Sci-Fi</td>\n",
              "        </tr>\n",
              "        <tr>\n",
              "            <td>Family</td>\n",
              "        </tr>\n",
              "        <tr>\n",
              "            <td>Musical</td>\n",
              "        </tr>\n",
              "        <tr>\n",
              "            <td>Fantasy</td>\n",
              "        </tr>\n",
              "        <tr>\n",
              "            <td>War</td>\n",
              "        </tr>\n",
              "        <tr>\n",
              "            <td>Horror</td>\n",
              "        </tr>\n",
              "        <tr>\n",
              "            <td>Music</td>\n",
              "        </tr>\n",
              "    </tbody>\n",
              "</table>"
            ]
          },
          "metadata": {},
          "execution_count": 15
        }
      ]
    },
    {
      "cell_type": "markdown",
      "source": [
        "* Com isso vemos que há um erro, existe a categoria 'Music' e 'Musical', que deveriam ser a mesma coisa, por esse motivo irei alterar todas ocorrências de 'Music' para 'Musical'."
      ],
      "metadata": {
        "id": "Pvs7z7z0m8V9"
      }
    },
    {
      "cell_type": "code",
      "source": [
        "%%sql\n",
        "UPDATE genre\n",
        "SET genre = 'Musical'\n",
        "WHERE genre = 'Music'\n"
      ],
      "metadata": {
        "colab": {
          "base_uri": "https://localhost:8080/"
        },
        "id": "K8qTbFrFkLBi",
        "outputId": "f1d94aaa-ee38-47ca-fb9b-9166fc082988"
      },
      "execution_count": null,
      "outputs": [
        {
          "output_type": "stream",
          "name": "stdout",
          "text": [
            " * sqlite:///movie.sqlite\n",
            "3 rows affected.\n"
          ]
        },
        {
          "output_type": "execute_result",
          "data": {
            "text/plain": [
              "[]"
            ]
          },
          "metadata": {},
          "execution_count": 16
        }
      ]
    },
    {
      "cell_type": "markdown",
      "source": [
        "## 2.0 Respondendo perguntas de Negócio"
      ],
      "metadata": {
        "id": "GSlQ-rZh8Avx"
      }
    },
    {
      "cell_type": "markdown",
      "source": [
        "### 1 - Quais os 5 gêneros que mais tem filmes?"
      ],
      "metadata": {
        "id": "KTmXLoFoFDS_"
      }
    },
    {
      "cell_type": "code",
      "source": [
        "%%sql\n",
        "SELECT\n",
        "genre AS Gênero,\n",
        "COUNT(*) AS Qtde_filmes\n",
        "FROM genre\n",
        "GROUP BY\n",
        "genre\n",
        "ORDER BY\n",
        "Qtde_filmes DESC\n",
        "LIMIT 5"
      ],
      "metadata": {
        "colab": {
          "base_uri": "https://localhost:8080/",
          "height": 182
        },
        "id": "HbqJANO2FRKK",
        "outputId": "d5e8da14-0786-4c7b-edd7-b7f13be4ab48"
      },
      "execution_count": 86,
      "outputs": [
        {
          "output_type": "stream",
          "name": "stdout",
          "text": [
            " * sqlite:///movie.sqlite\n",
            "Done.\n"
          ]
        },
        {
          "output_type": "execute_result",
          "data": {
            "text/plain": [
              "[('Drama', 77),\n",
              " ('Adventure', 43),\n",
              " ('Action', 33),\n",
              " ('Comedy', 31),\n",
              " ('Biography', 21)]"
            ],
            "text/html": [
              "<table>\n",
              "    <thead>\n",
              "        <tr>\n",
              "            <th>Gênero</th>\n",
              "            <th>Qtde_filmes</th>\n",
              "        </tr>\n",
              "    </thead>\n",
              "    <tbody>\n",
              "        <tr>\n",
              "            <td>Drama</td>\n",
              "            <td>77</td>\n",
              "        </tr>\n",
              "        <tr>\n",
              "            <td>Adventure</td>\n",
              "            <td>43</td>\n",
              "        </tr>\n",
              "        <tr>\n",
              "            <td>Action</td>\n",
              "            <td>33</td>\n",
              "        </tr>\n",
              "        <tr>\n",
              "            <td>Comedy</td>\n",
              "            <td>31</td>\n",
              "        </tr>\n",
              "        <tr>\n",
              "            <td>Biography</td>\n",
              "            <td>21</td>\n",
              "        </tr>\n",
              "    </tbody>\n",
              "</table>"
            ]
          },
          "metadata": {},
          "execution_count": 86
        }
      ]
    },
    {
      "cell_type": "markdown",
      "source": [
        "### 2 - Quais os 5 gêneros que tiveram maior lucro médio?\n"
      ],
      "metadata": {
        "id": "oQDoGBPzBBAq"
      }
    },
    {
      "cell_type": "markdown",
      "source": [
        "Lucro= Receita−Custo Total"
      ],
      "metadata": {
        "id": "kXdARiChqn5R"
      }
    },
    {
      "cell_type": "code",
      "source": [
        "%%sql\n",
        "\n",
        "-- Selecionando os filmes e calculando o lucro médio.\n",
        "\n",
        "WITH lucro_filme AS (\n",
        "SELECT\n",
        "e.Movie_id,\n",
        "(e.Worldwide + e.Domestic - i.Budget) AS lucro\n",
        "FROM\n",
        "earning e\n",
        "JOIN\n",
        "IMDB i ON e.Movie_id = i.Movie_id)\n",
        "\n",
        "-- Agrupando os gêneros\n",
        "\n",
        "SELECT\n",
        "g.Genre,\n",
        "ROUND(AVG(l.lucro), 2) AS lucro_medio\n",
        "FROM\n",
        "lucro_filme l\n",
        "JOIN\n",
        "genre g ON l.Movie_id = g.Movie_id\n",
        "GROUP BY\n",
        "g.Genre\n",
        "\n",
        "-- Ordenando  os gêneros pelo lucro médio.\n",
        "ORDER BY\n",
        "lucro_medio DESC\n",
        "LIMIT 5\n"
      ],
      "metadata": {
        "id": "4qfqFg4C8qaA",
        "colab": {
          "base_uri": "https://localhost:8080/",
          "height": 182
        },
        "outputId": "4ed88330-ed78-4788-8e41-462ec9901374"
      },
      "execution_count": null,
      "outputs": [
        {
          "output_type": "stream",
          "name": "stdout",
          "text": [
            " * sqlite:///movie.sqlite\n",
            "Done.\n"
          ]
        },
        {
          "output_type": "execute_result",
          "data": {
            "text/plain": [
              "[('Fantasy', 989816179.14),\n",
              " ('Sci-Fi', 716244826.11),\n",
              " ('Action', 713718604.64),\n",
              " ('Adventure', 712700440.6),\n",
              " ('Animation', 668539229.08)]"
            ],
            "text/html": [
              "<table>\n",
              "    <thead>\n",
              "        <tr>\n",
              "            <th>genre</th>\n",
              "            <th>lucro_medio</th>\n",
              "        </tr>\n",
              "    </thead>\n",
              "    <tbody>\n",
              "        <tr>\n",
              "            <td>Fantasy</td>\n",
              "            <td>989816179.14</td>\n",
              "        </tr>\n",
              "        <tr>\n",
              "            <td>Sci-Fi</td>\n",
              "            <td>716244826.11</td>\n",
              "        </tr>\n",
              "        <tr>\n",
              "            <td>Action</td>\n",
              "            <td>713718604.64</td>\n",
              "        </tr>\n",
              "        <tr>\n",
              "            <td>Adventure</td>\n",
              "            <td>712700440.6</td>\n",
              "        </tr>\n",
              "        <tr>\n",
              "            <td>Animation</td>\n",
              "            <td>668539229.08</td>\n",
              "        </tr>\n",
              "    </tbody>\n",
              "</table>"
            ]
          },
          "metadata": {},
          "execution_count": 31
        }
      ]
    },
    {
      "cell_type": "markdown",
      "source": [
        "### 3 - Quais os 5 gêneros que tiveram maior margem de lucro médio?\n"
      ],
      "metadata": {
        "id": "HlD48FIyqfKe"
      }
    },
    {
      "cell_type": "markdown",
      "source": [
        "* Margem de lucro = (lucro / receita total) x 100."
      ],
      "metadata": {
        "id": "-QCPSSbhoPZy"
      }
    },
    {
      "cell_type": "code",
      "source": [
        "%%sql\n",
        "\n",
        "-- Selecionando os filmes e calculando a margem de lucro.\n",
        "\n",
        "WITH margem_lucro_filme AS (\n",
        "SELECT\n",
        "e.Movie_id,\n",
        "((e.Worldwide + e.Domestic - i.Budget)/(e.Worldwide + e.Domestic)) * 100 AS margem_lucro\n",
        "FROM\n",
        "earning e\n",
        "JOIN\n",
        "IMDB i ON e.Movie_id = i.Movie_id\n",
        ")\n",
        "\n",
        "-- Agrupando os gêneros.\n",
        "\n",
        "SELECT\n",
        "g.Genre,\n",
        "ROUND(AVG(l.margem_lucro), 2) AS margem_lucro_medio\n",
        "FROM\n",
        "margem_lucro_filme l\n",
        "JOIN\n",
        "genre g ON l.Movie_id = g.Movie_id\n",
        "GROUP BY\n",
        "g.Genre\n",
        "\n",
        "-- Ordenando  os gêneros pela média de lucratividade.\n",
        "\n",
        "ORDER BY\n",
        "margem_lucro_medio DESC\n",
        "LIMIT 5"
      ],
      "metadata": {
        "id": "kcijYc5CvnBX",
        "colab": {
          "base_uri": "https://localhost:8080/",
          "height": 182
        },
        "outputId": "cf790e24-9ded-4d77-e781-3f6ddf66b8bb"
      },
      "execution_count": null,
      "outputs": [
        {
          "output_type": "stream",
          "name": "stdout",
          "text": [
            " * sqlite:///movie.sqlite\n",
            "Done.\n"
          ]
        },
        {
          "output_type": "execute_result",
          "data": {
            "text/plain": [
              "[('Musical', 88.9),\n",
              " ('History', 88.27),\n",
              " ('Biography', 87.69),\n",
              " ('Western', 87.01),\n",
              " ('Fantasy', 85.98)]"
            ],
            "text/html": [
              "<table>\n",
              "    <thead>\n",
              "        <tr>\n",
              "            <th>genre</th>\n",
              "            <th>margem_lucro_medio</th>\n",
              "        </tr>\n",
              "    </thead>\n",
              "    <tbody>\n",
              "        <tr>\n",
              "            <td>Musical</td>\n",
              "            <td>88.9</td>\n",
              "        </tr>\n",
              "        <tr>\n",
              "            <td>History</td>\n",
              "            <td>88.27</td>\n",
              "        </tr>\n",
              "        <tr>\n",
              "            <td>Biography</td>\n",
              "            <td>87.69</td>\n",
              "        </tr>\n",
              "        <tr>\n",
              "            <td>Western</td>\n",
              "            <td>87.01</td>\n",
              "        </tr>\n",
              "        <tr>\n",
              "            <td>Fantasy</td>\n",
              "            <td>85.98</td>\n",
              "        </tr>\n",
              "    </tbody>\n",
              "</table>"
            ]
          },
          "metadata": {},
          "execution_count": 32
        }
      ]
    },
    {
      "cell_type": "markdown",
      "source": [
        "* Podemos notar que a margem de lucro não segue a mesma ordem do lucro médio\n",
        "isso ocorre provavelmente devido a diferença de Budget, vamos observar isso."
      ],
      "metadata": {
        "id": "kO6MKHQlsHSJ"
      }
    },
    {
      "cell_type": "markdown",
      "source": [
        "### 4 - Qual o Budget médio de cada gênero?"
      ],
      "metadata": {
        "id": "nX2CrdKMs1UL"
      }
    },
    {
      "cell_type": "code",
      "source": [
        "%%sql\n",
        "\n",
        "-- Calculando o Budget médio por gênero\n",
        "SELECT\n",
        "g.Genre,\n",
        "ROUND(AVG(i.Budget), 2) AS Budget_Medio\n",
        "FROM\n",
        "IMDB i\n",
        "JOIN\n",
        "genre g ON i.Movie_id = g.Movie_id\n",
        "GROUP BY\n",
        "g.Genre\n",
        "ORDER BY\n",
        "Budget_Medio DESC\n"
      ],
      "metadata": {
        "colab": {
          "base_uri": "https://localhost:8080/",
          "height": 481
        },
        "id": "6s8zGoKNrco5",
        "outputId": "29fc65f9-0343-43d6-ffdf-512840650610"
      },
      "execution_count": null,
      "outputs": [
        {
          "output_type": "stream",
          "name": "stdout",
          "text": [
            " * sqlite:///movie.sqlite\n",
            "Done.\n"
          ]
        },
        {
          "output_type": "execute_result",
          "data": {
            "text/plain": [
              "[('Fantasy', 156285714.29),\n",
              " ('Family', 153333333.33),\n",
              " ('Sci-Fi', 144222222.22),\n",
              " ('Animation', 141938461.54),\n",
              " ('Adventure', 140620930.23),\n",
              " ('Action', 131287878.79),\n",
              " ('Western', 69000000.0),\n",
              " ('Thriller', 68678571.43),\n",
              " ('Mystery', 67000000.0),\n",
              " ('Comedy', 56132258.06),\n",
              " ('War', 43500000.0),\n",
              " ('Crime', 38772727.27),\n",
              " ('Sport', 36666666.67),\n",
              " ('Drama', 33953246.75),\n",
              " ('Biography', 29738095.24),\n",
              " ('History', 28833333.33),\n",
              " ('Musical', 24575000.0),\n",
              " ('Romance', 20838461.54),\n",
              " ('Horror', 3300000.0)]"
            ],
            "text/html": [
              "<table>\n",
              "    <thead>\n",
              "        <tr>\n",
              "            <th>genre</th>\n",
              "            <th>Budget_Medio</th>\n",
              "        </tr>\n",
              "    </thead>\n",
              "    <tbody>\n",
              "        <tr>\n",
              "            <td>Fantasy</td>\n",
              "            <td>156285714.29</td>\n",
              "        </tr>\n",
              "        <tr>\n",
              "            <td>Family</td>\n",
              "            <td>153333333.33</td>\n",
              "        </tr>\n",
              "        <tr>\n",
              "            <td>Sci-Fi</td>\n",
              "            <td>144222222.22</td>\n",
              "        </tr>\n",
              "        <tr>\n",
              "            <td>Animation</td>\n",
              "            <td>141938461.54</td>\n",
              "        </tr>\n",
              "        <tr>\n",
              "            <td>Adventure</td>\n",
              "            <td>140620930.23</td>\n",
              "        </tr>\n",
              "        <tr>\n",
              "            <td>Action</td>\n",
              "            <td>131287878.79</td>\n",
              "        </tr>\n",
              "        <tr>\n",
              "            <td>Western</td>\n",
              "            <td>69000000.0</td>\n",
              "        </tr>\n",
              "        <tr>\n",
              "            <td>Thriller</td>\n",
              "            <td>68678571.43</td>\n",
              "        </tr>\n",
              "        <tr>\n",
              "            <td>Mystery</td>\n",
              "            <td>67000000.0</td>\n",
              "        </tr>\n",
              "        <tr>\n",
              "            <td>Comedy</td>\n",
              "            <td>56132258.06</td>\n",
              "        </tr>\n",
              "        <tr>\n",
              "            <td>War</td>\n",
              "            <td>43500000.0</td>\n",
              "        </tr>\n",
              "        <tr>\n",
              "            <td>Crime</td>\n",
              "            <td>38772727.27</td>\n",
              "        </tr>\n",
              "        <tr>\n",
              "            <td>Sport</td>\n",
              "            <td>36666666.67</td>\n",
              "        </tr>\n",
              "        <tr>\n",
              "            <td>Drama</td>\n",
              "            <td>33953246.75</td>\n",
              "        </tr>\n",
              "        <tr>\n",
              "            <td>Biography</td>\n",
              "            <td>29738095.24</td>\n",
              "        </tr>\n",
              "        <tr>\n",
              "            <td>History</td>\n",
              "            <td>28833333.33</td>\n",
              "        </tr>\n",
              "        <tr>\n",
              "            <td>Musical</td>\n",
              "            <td>24575000.0</td>\n",
              "        </tr>\n",
              "        <tr>\n",
              "            <td>Romance</td>\n",
              "            <td>20838461.54</td>\n",
              "        </tr>\n",
              "        <tr>\n",
              "            <td>Horror</td>\n",
              "            <td>3300000.0</td>\n",
              "        </tr>\n",
              "    </tbody>\n",
              "</table>"
            ]
          },
          "metadata": {},
          "execution_count": 33
        }
      ]
    },
    {
      "cell_type": "markdown",
      "source": [
        "* Com isso conseguimos entender o motivo da diferença do ranqueamento.\n",
        "* O gênero Fantasy obtém maior lucro médio, mas com o buget mais alto a margem de lucro acaba sendo um pouco menor em relação ao gênero Musical, por exemplo, que tem um Budget bem menor.\n",
        "* Então uma produtora pode escolher qual o melhor gênero para se investir dependendo do momento que está passando (claro que outros fatores devem ser levados em conta)."
      ],
      "metadata": {
        "id": "ewQLjRVfw527"
      }
    },
    {
      "cell_type": "markdown",
      "source": [
        "### 5 - Há filmes que deram prejuízo?"
      ],
      "metadata": {
        "id": "Vj9Y57bsyxl8"
      }
    },
    {
      "cell_type": "markdown",
      "source": [
        "* Para isso devemos calcular usando a fórmula do lucro, condicionado a visualização a valores negativos, caso existam."
      ],
      "metadata": {
        "id": "kI3u8l-u1Fft"
      }
    },
    {
      "cell_type": "code",
      "source": [
        "%%sql\n",
        "\n",
        "SELECT\n",
        "DISTINCT(i.Title) AS Título,\n",
        "(e.Worldwide + e.Domestic - i.Budget) AS Prejuízo\n",
        "FROM\n",
        "IMDB i\n",
        "JOIN\n",
        "earning e ON i.Movie_id = e.Movie_id\n",
        "JOIN\n",
        "genre g ON i.Movie_id = g.Movie_id\n",
        "WHERE\n",
        "(e.Worldwide + e.Domestic - i.Budget) < 0\n",
        "AND e.Worldwide > 0\n",
        "AND e.Domestic > 0\n",
        "AND i.Budget > 0\n",
        "/*Ao realizar a consulta sem as 4 cláusulas, estavam aparecendo dados positivos, mesmo filtrando\n",
        "para ocorrer somente valores de budget maior que a receita total.*/\n",
        "ORDER BY\n",
        "Prejuízo DESC\n"
      ],
      "metadata": {
        "colab": {
          "base_uri": "https://localhost:8080/",
          "height": 161
        },
        "id": "7_cps6CXzYmX",
        "outputId": "701bbac4-c717-4291-9bdb-0426882145c3"
      },
      "execution_count": null,
      "outputs": [
        {
          "output_type": "stream",
          "name": "stdout",
          "text": [
            " * sqlite:///movie.sqlite\n",
            "Done.\n"
          ]
        },
        {
          "output_type": "execute_result",
          "data": {
            "text/plain": [
              "[('Tucker and Dale vs Evil\\xa0(2010)', -26646.0),\n",
              " ('Tyrannosaur\\xa0(2011)', -955358.0),\n",
              " ('Disconnect\\xa0(2012)', -7126200.0),\n",
              " ('Flipped\\xa0(2010)', -10489576.0)]"
            ],
            "text/html": [
              "<table>\n",
              "    <thead>\n",
              "        <tr>\n",
              "            <th>Título</th>\n",
              "            <th>Prejuízo</th>\n",
              "        </tr>\n",
              "    </thead>\n",
              "    <tbody>\n",
              "        <tr>\n",
              "            <td>Tucker and Dale vs Evil (2010)</td>\n",
              "            <td>-26646.0</td>\n",
              "        </tr>\n",
              "        <tr>\n",
              "            <td>Tyrannosaur (2011)</td>\n",
              "            <td>-955358.0</td>\n",
              "        </tr>\n",
              "        <tr>\n",
              "            <td>Disconnect (2012)</td>\n",
              "            <td>-7126200.0</td>\n",
              "        </tr>\n",
              "        <tr>\n",
              "            <td>Flipped (2010)</td>\n",
              "            <td>-10489576.0</td>\n",
              "        </tr>\n",
              "    </tbody>\n",
              "</table>"
            ]
          },
          "metadata": {},
          "execution_count": 48
        }
      ]
    },
    {
      "cell_type": "markdown",
      "source": [
        "* Foram identificados 4 filmes que deram prejuízo."
      ],
      "metadata": {
        "id": "XYhq1D9f2M-Z"
      }
    },
    {
      "cell_type": "markdown",
      "source": [
        "### 6 - Há grande diferença na média de votos entre americanos e não americanos?"
      ],
      "metadata": {
        "id": "QLEuC5Qn2hPG"
      }
    },
    {
      "cell_type": "code",
      "source": [
        "%%sql\n",
        "\n",
        "SELECT\n",
        "g.Genre,\n",
        "ROUND(AVG(i.VotesUS), 2) AS Media_Votos_Americanos,\n",
        "ROUND(AVG(i.VotesnUS), 2) AS Media_Votos_Mundo,\n",
        "ROUND(AVG(i.VotesUS) - AVG(i.VotesnUS),5) AS diferenca_media\n",
        "FROM\n",
        "IMDB i\n",
        "JOIN\n",
        "genre g ON i.Movie_id = g.Movie_id\n",
        "GROUP BY\n",
        "g.Genre\n",
        "ORDER BY\n",
        "diferenca_media DESC;\n"
      ],
      "metadata": {
        "colab": {
          "base_uri": "https://localhost:8080/",
          "height": 481
        },
        "id": "sNahKlGh42Kd",
        "outputId": "2a0af3a4-a484-4701-cab0-1357656b8a0e"
      },
      "execution_count": null,
      "outputs": [
        {
          "output_type": "stream",
          "name": "stdout",
          "text": [
            " * sqlite:///movie.sqlite\n",
            "Done.\n"
          ]
        },
        {
          "output_type": "execute_result",
          "data": {
            "text/plain": [
              "[('Sport', 7.97, 7.7, 0.26667),\n",
              " ('Family', 7.83, 7.57, 0.26667),\n",
              " ('Drama', 7.92, 7.68, 0.23636),\n",
              " ('History', 8.05, 7.82, 0.23333),\n",
              " ('Action', 7.98, 7.75, 0.22424),\n",
              " ('Sci-Fi', 8.08, 7.87, 0.21111),\n",
              " ('Horror', 7.7, 7.5, 0.2),\n",
              " ('Adventure', 7.97, 7.78, 0.19535),\n",
              " ('Crime', 7.98, 7.8, 0.18182),\n",
              " ('Musical', 8.15, 7.98, 0.175),\n",
              " ('Fantasy', 7.84, 7.67, 0.17143),\n",
              " ('Comedy', 7.91, 7.75, 0.15484),\n",
              " ('Animation', 7.95, 7.79, 0.15385),\n",
              " ('Biography', 7.93, 7.78, 0.15238),\n",
              " ('Western', 8.15, 8.0, 0.15),\n",
              " ('Romance', 7.83, 7.7, 0.13077),\n",
              " ('Thriller', 7.89, 7.79, 0.10714),\n",
              " ('War', 7.6, 7.5, 0.1),\n",
              " ('Mystery', 7.94, 7.86, 0.08571)]"
            ],
            "text/html": [
              "<table>\n",
              "    <thead>\n",
              "        <tr>\n",
              "            <th>genre</th>\n",
              "            <th>Media_Votos_Americanos</th>\n",
              "            <th>Media_Votos_Mundo</th>\n",
              "            <th>diferenca_media</th>\n",
              "        </tr>\n",
              "    </thead>\n",
              "    <tbody>\n",
              "        <tr>\n",
              "            <td>Sport</td>\n",
              "            <td>7.97</td>\n",
              "            <td>7.7</td>\n",
              "            <td>0.26667</td>\n",
              "        </tr>\n",
              "        <tr>\n",
              "            <td>Family</td>\n",
              "            <td>7.83</td>\n",
              "            <td>7.57</td>\n",
              "            <td>0.26667</td>\n",
              "        </tr>\n",
              "        <tr>\n",
              "            <td>Drama</td>\n",
              "            <td>7.92</td>\n",
              "            <td>7.68</td>\n",
              "            <td>0.23636</td>\n",
              "        </tr>\n",
              "        <tr>\n",
              "            <td>History</td>\n",
              "            <td>8.05</td>\n",
              "            <td>7.82</td>\n",
              "            <td>0.23333</td>\n",
              "        </tr>\n",
              "        <tr>\n",
              "            <td>Action</td>\n",
              "            <td>7.98</td>\n",
              "            <td>7.75</td>\n",
              "            <td>0.22424</td>\n",
              "        </tr>\n",
              "        <tr>\n",
              "            <td>Sci-Fi</td>\n",
              "            <td>8.08</td>\n",
              "            <td>7.87</td>\n",
              "            <td>0.21111</td>\n",
              "        </tr>\n",
              "        <tr>\n",
              "            <td>Horror</td>\n",
              "            <td>7.7</td>\n",
              "            <td>7.5</td>\n",
              "            <td>0.2</td>\n",
              "        </tr>\n",
              "        <tr>\n",
              "            <td>Adventure</td>\n",
              "            <td>7.97</td>\n",
              "            <td>7.78</td>\n",
              "            <td>0.19535</td>\n",
              "        </tr>\n",
              "        <tr>\n",
              "            <td>Crime</td>\n",
              "            <td>7.98</td>\n",
              "            <td>7.8</td>\n",
              "            <td>0.18182</td>\n",
              "        </tr>\n",
              "        <tr>\n",
              "            <td>Musical</td>\n",
              "            <td>8.15</td>\n",
              "            <td>7.98</td>\n",
              "            <td>0.175</td>\n",
              "        </tr>\n",
              "        <tr>\n",
              "            <td>Fantasy</td>\n",
              "            <td>7.84</td>\n",
              "            <td>7.67</td>\n",
              "            <td>0.17143</td>\n",
              "        </tr>\n",
              "        <tr>\n",
              "            <td>Comedy</td>\n",
              "            <td>7.91</td>\n",
              "            <td>7.75</td>\n",
              "            <td>0.15484</td>\n",
              "        </tr>\n",
              "        <tr>\n",
              "            <td>Animation</td>\n",
              "            <td>7.95</td>\n",
              "            <td>7.79</td>\n",
              "            <td>0.15385</td>\n",
              "        </tr>\n",
              "        <tr>\n",
              "            <td>Biography</td>\n",
              "            <td>7.93</td>\n",
              "            <td>7.78</td>\n",
              "            <td>0.15238</td>\n",
              "        </tr>\n",
              "        <tr>\n",
              "            <td>Western</td>\n",
              "            <td>8.15</td>\n",
              "            <td>8.0</td>\n",
              "            <td>0.15</td>\n",
              "        </tr>\n",
              "        <tr>\n",
              "            <td>Romance</td>\n",
              "            <td>7.83</td>\n",
              "            <td>7.7</td>\n",
              "            <td>0.13077</td>\n",
              "        </tr>\n",
              "        <tr>\n",
              "            <td>Thriller</td>\n",
              "            <td>7.89</td>\n",
              "            <td>7.79</td>\n",
              "            <td>0.10714</td>\n",
              "        </tr>\n",
              "        <tr>\n",
              "            <td>War</td>\n",
              "            <td>7.6</td>\n",
              "            <td>7.5</td>\n",
              "            <td>0.1</td>\n",
              "        </tr>\n",
              "        <tr>\n",
              "            <td>Mystery</td>\n",
              "            <td>7.94</td>\n",
              "            <td>7.86</td>\n",
              "            <td>0.08571</td>\n",
              "        </tr>\n",
              "    </tbody>\n",
              "</table>"
            ]
          },
          "metadata": {},
          "execution_count": 62
        }
      ]
    },
    {
      "cell_type": "markdown",
      "source": [
        "* Não há grande diferença na avalição média America e Global"
      ],
      "metadata": {
        "id": "TuUIjEo86YCV"
      }
    },
    {
      "cell_type": "markdown",
      "source": [
        "### 7 - Há ocorrência de filmes que fizeram maior sucesso nacionalmente do que no resto do mundo? (Maior bilheteria nos EUA do que no mundo inteiro)"
      ],
      "metadata": {
        "id": "H9s5eGGR7YTw"
      }
    },
    {
      "cell_type": "code",
      "source": [
        "%%sql\n",
        "\n",
        "SELECT\n",
        "i.Title,\n",
        "e.Domestic,\n",
        "e.Worldwide\n",
        "FROM\n",
        "IMDB i\n",
        "JOIN\n",
        "earning e ON i.Movie_id = e.Movie_id\n",
        "WHERE\n",
        "e.Domestic > e.Worldwide\n",
        "ORDER BY\n",
        "e.Domestic DESC"
      ],
      "metadata": {
        "colab": {
          "base_uri": "https://localhost:8080/",
          "height": 75
        },
        "id": "uUC2LFPM43WO",
        "outputId": "e3655b50-b23b-4bdd-aed9-8e7302d69cab"
      },
      "execution_count": null,
      "outputs": [
        {
          "output_type": "stream",
          "name": "stdout",
          "text": [
            " * sqlite:///movie.sqlite\n",
            "Done.\n"
          ]
        },
        {
          "output_type": "execute_result",
          "data": {
            "text/plain": [
              "[]"
            ],
            "text/html": [
              "<table>\n",
              "    <thead>\n",
              "        <tr>\n",
              "            <th>Title</th>\n",
              "            <th>Domestic</th>\n",
              "            <th>Worldwide</th>\n",
              "        </tr>\n",
              "    </thead>\n",
              "    <tbody>\n",
              "    </tbody>\n",
              "</table>"
            ]
          },
          "metadata": {},
          "execution_count": 65
        }
      ]
    },
    {
      "cell_type": "markdown",
      "source": [
        "* Não há ocorrência"
      ],
      "metadata": {
        "id": "MpUYCXfr8O1H"
      }
    },
    {
      "cell_type": "markdown",
      "source": [
        "### 8 - Quais os 10 filmes com maior faturamento? Comparando o faturamento nacional e mundial."
      ],
      "metadata": {
        "id": "krspeOgi8TdD"
      }
    },
    {
      "cell_type": "code",
      "source": [
        "%%sql\n",
        "\n",
        "SELECT\n",
        "i.Title,\n",
        "(e.Domestic + e.Worldwide) as Faturamento_total,\n",
        "e.Domestic,\n",
        "e.Worldwide\n",
        "FROM\n",
        "IMDB  i\n",
        "JOIN\n",
        "earning e\n",
        "ON\n",
        "i.Movie_id = e.Movie_id\n",
        "GROUP BY\n",
        "i.Title\n",
        "ORDER BY\n",
        "Faturamento_total DESC\n",
        "LIMIT 10"
      ],
      "metadata": {
        "colab": {
          "base_uri": "https://localhost:8080/",
          "height": 289
        },
        "id": "gUYz8AoP7WV_",
        "outputId": "fa29508e-a2d2-40fa-9d87-42804f6c657d"
      },
      "execution_count": null,
      "outputs": [
        {
          "output_type": "stream",
          "name": "stdout",
          "text": [
            " * sqlite:///movie.sqlite\n",
            "Done.\n"
          ]
        },
        {
          "output_type": "execute_result",
          "data": {
            "text/plain": [
              "[('Star Wars: The Force Awakens (2015)', 3004885849.0, 936662225, 2068223624.0),\n",
              " ('The Avengers (2012)', 2142170898.0, 623357910, 1518812988.0),\n",
              " ('Rogue One (2016)', 1588234597.0, 532177324, 1056057273.0),\n",
              " ('Captain America: Civil War\\xa0(2016)', 1561388844.0, 408084349, 1153304495.0),\n",
              " ('The Dark Knight Rises\\xa0(2012)', 1533078198.0, 448139099, 1084939099.0),\n",
              " ('Toy Story 3 (2010)', 1481974583.0, 415004880, 1066969703.0),\n",
              " ('Skyfall\\xa0(2012)', 1412921290.0, 304360277, 1108561013.0),\n",
              " ('Zootopia\\xa0(2016)', 1365052443.0, 341268248, 1023784195.0),\n",
              " ('The Hobbit: An Unexpected Journey\\xa0(2012)', 1324107136.0, 303003568, 1021103568.0),\n",
              " ('The Hunger Games: Catching Fire (2013)', 1289679793.0, 424668047, 865011746.0)]"
            ],
            "text/html": [
              "<table>\n",
              "    <thead>\n",
              "        <tr>\n",
              "            <th>Title</th>\n",
              "            <th>Faturamento_total</th>\n",
              "            <th>Domestic</th>\n",
              "            <th>Worldwide</th>\n",
              "        </tr>\n",
              "    </thead>\n",
              "    <tbody>\n",
              "        <tr>\n",
              "            <td>Star Wars: The Force Awakens (2015)</td>\n",
              "            <td>3004885849.0</td>\n",
              "            <td>936662225</td>\n",
              "            <td>2068223624.0</td>\n",
              "        </tr>\n",
              "        <tr>\n",
              "            <td>The Avengers (2012)</td>\n",
              "            <td>2142170898.0</td>\n",
              "            <td>623357910</td>\n",
              "            <td>1518812988.0</td>\n",
              "        </tr>\n",
              "        <tr>\n",
              "            <td>Rogue One (2016)</td>\n",
              "            <td>1588234597.0</td>\n",
              "            <td>532177324</td>\n",
              "            <td>1056057273.0</td>\n",
              "        </tr>\n",
              "        <tr>\n",
              "            <td>Captain America: Civil War (2016)</td>\n",
              "            <td>1561388844.0</td>\n",
              "            <td>408084349</td>\n",
              "            <td>1153304495.0</td>\n",
              "        </tr>\n",
              "        <tr>\n",
              "            <td>The Dark Knight Rises (2012)</td>\n",
              "            <td>1533078198.0</td>\n",
              "            <td>448139099</td>\n",
              "            <td>1084939099.0</td>\n",
              "        </tr>\n",
              "        <tr>\n",
              "            <td>Toy Story 3 (2010)</td>\n",
              "            <td>1481974583.0</td>\n",
              "            <td>415004880</td>\n",
              "            <td>1066969703.0</td>\n",
              "        </tr>\n",
              "        <tr>\n",
              "            <td>Skyfall (2012)</td>\n",
              "            <td>1412921290.0</td>\n",
              "            <td>304360277</td>\n",
              "            <td>1108561013.0</td>\n",
              "        </tr>\n",
              "        <tr>\n",
              "            <td>Zootopia (2016)</td>\n",
              "            <td>1365052443.0</td>\n",
              "            <td>341268248</td>\n",
              "            <td>1023784195.0</td>\n",
              "        </tr>\n",
              "        <tr>\n",
              "            <td>The Hobbit: An Unexpected Journey (2012)</td>\n",
              "            <td>1324107136.0</td>\n",
              "            <td>303003568</td>\n",
              "            <td>1021103568.0</td>\n",
              "        </tr>\n",
              "        <tr>\n",
              "            <td>The Hunger Games: Catching Fire (2013)</td>\n",
              "            <td>1289679793.0</td>\n",
              "            <td>424668047</td>\n",
              "            <td>865011746.0</td>\n",
              "        </tr>\n",
              "    </tbody>\n",
              "</table>"
            ]
          },
          "metadata": {},
          "execution_count": 72
        }
      ]
    },
    {
      "cell_type": "markdown",
      "source": [
        "### 9 - Qual a avaliação média dos 10 filmes com maior faturamento?\n"
      ],
      "metadata": {
        "id": "-vLNBjyKCFTq"
      }
    },
    {
      "cell_type": "code",
      "source": [
        "%%sql\n",
        "\n",
        "-- Identificando os 10 filmes com maior faturamento\n",
        "WITH dez_filmes AS (\n",
        "SELECT\n",
        "i.Movie_id,\n",
        "i.Title,\n",
        "(e.Domestic + e.Worldwide) AS Faturamento\n",
        "FROM\n",
        "IMDB i\n",
        "JOIN\n",
        "earning e ON i.Movie_id = e.Movie_id\n",
        "ORDER BY\n",
        "Faturamento DESC\n",
        "LIMIT 10\n",
        ")\n",
        "\n",
        "-- Obtendo a avaliação média dos 10 filmes encontrados\n",
        "SELECT\n",
        "dz.Title AS Filme,\n",
        "ROUND(i.Rating, 2) AS Avaliacao\n",
        "FROM\n",
        "dez_filmes dz\n",
        "JOIN\n",
        "IMDB i ON dz.Movie_id = i.Movie_id\n",
        "ORDER BY\n",
        "dz.Faturamento DESC;\n",
        "\n"
      ],
      "metadata": {
        "colab": {
          "base_uri": "https://localhost:8080/",
          "height": 289
        },
        "id": "EG9kSco0CFvd",
        "outputId": "1c140f26-a016-4aa1-a557-f465e05a24fa"
      },
      "execution_count": 92,
      "outputs": [
        {
          "output_type": "stream",
          "name": "stdout",
          "text": [
            " * sqlite:///movie.sqlite\n",
            "Done.\n"
          ]
        },
        {
          "output_type": "execute_result",
          "data": {
            "text/plain": [
              "[('Star Wars: The Force Awakens (2015)', 8.1),\n",
              " ('The Avengers (2012)', 8.1),\n",
              " ('Rogue One (2016)', 7.9),\n",
              " ('Captain America: Civil War\\xa0(2016)', 7.9),\n",
              " ('The Dark Knight Rises\\xa0(2012)', 8.4),\n",
              " ('Toy Story 3 (2010)', 8.3),\n",
              " ('Skyfall\\xa0(2012)', 7.8),\n",
              " ('Zootopia\\xa0(2016)', 8.1),\n",
              " ('The Hobbit: An Unexpected Journey\\xa0(2012)', 7.9),\n",
              " ('The Hunger Games: Catching Fire (2013)', 7.6)]"
            ],
            "text/html": [
              "<table>\n",
              "    <thead>\n",
              "        <tr>\n",
              "            <th>Filme</th>\n",
              "            <th>Avaliacao</th>\n",
              "        </tr>\n",
              "    </thead>\n",
              "    <tbody>\n",
              "        <tr>\n",
              "            <td>Star Wars: The Force Awakens (2015)</td>\n",
              "            <td>8.1</td>\n",
              "        </tr>\n",
              "        <tr>\n",
              "            <td>The Avengers (2012)</td>\n",
              "            <td>8.1</td>\n",
              "        </tr>\n",
              "        <tr>\n",
              "            <td>Rogue One (2016)</td>\n",
              "            <td>7.9</td>\n",
              "        </tr>\n",
              "        <tr>\n",
              "            <td>Captain America: Civil War (2016)</td>\n",
              "            <td>7.9</td>\n",
              "        </tr>\n",
              "        <tr>\n",
              "            <td>The Dark Knight Rises (2012)</td>\n",
              "            <td>8.4</td>\n",
              "        </tr>\n",
              "        <tr>\n",
              "            <td>Toy Story 3 (2010)</td>\n",
              "            <td>8.3</td>\n",
              "        </tr>\n",
              "        <tr>\n",
              "            <td>Skyfall (2012)</td>\n",
              "            <td>7.8</td>\n",
              "        </tr>\n",
              "        <tr>\n",
              "            <td>Zootopia (2016)</td>\n",
              "            <td>8.1</td>\n",
              "        </tr>\n",
              "        <tr>\n",
              "            <td>The Hobbit: An Unexpected Journey (2012)</td>\n",
              "            <td>7.9</td>\n",
              "        </tr>\n",
              "        <tr>\n",
              "            <td>The Hunger Games: Catching Fire (2013)</td>\n",
              "            <td>7.6</td>\n",
              "        </tr>\n",
              "    </tbody>\n",
              "</table>"
            ]
          },
          "metadata": {},
          "execution_count": 92
        }
      ]
    },
    {
      "cell_type": "markdown",
      "source": [
        "### 10 - Quais os 10 filmes com melhor avaliação?"
      ],
      "metadata": {
        "id": "z__tzVT4CnVj"
      }
    },
    {
      "cell_type": "code",
      "source": [
        "%%sql\n",
        "\n",
        "SELECT\n",
        "Title AS Filme,\n",
        "ROUND(Rating, 2) AS Avaliacao\n",
        "FROM\n",
        "IMDB\n",
        "ORDER BY\n",
        "Rating DESC\n",
        "LIMIT 10;\n"
      ],
      "metadata": {
        "colab": {
          "base_uri": "https://localhost:8080/",
          "height": 289
        },
        "id": "8HKMwQQwCnvV",
        "outputId": "e67d8012-0cf2-4d38-c1d9-193977efe4d0"
      },
      "execution_count": 93,
      "outputs": [
        {
          "output_type": "stream",
          "name": "stdout",
          "text": [
            " * sqlite:///movie.sqlite\n",
            "Done.\n"
          ]
        },
        {
          "output_type": "execute_result",
          "data": {
            "text/plain": [
              "[('Inception (2010)', 8.8),\n",
              " ('Interstellar\\xa0(2014)', 8.6),\n",
              " ('Whiplash\\xa0(2014)', 8.5),\n",
              " ('Django Unchained\\xa0(2012)', 8.4),\n",
              " ('The Dark Knight Rises\\xa0(2012)', 8.4),\n",
              " ('Toy Story 3 (2010)', 8.3),\n",
              " ('Hacksaw Ridge\\xa0(2016)', 8.2),\n",
              " ('Inside Out\\xa0(2015)', 8.2),\n",
              " ('La La Land\\xa0(2016)', 8.2),\n",
              " ('The Wolf of Wall Street (2013)', 8.2)]"
            ],
            "text/html": [
              "<table>\n",
              "    <thead>\n",
              "        <tr>\n",
              "            <th>Filme</th>\n",
              "            <th>Avaliacao</th>\n",
              "        </tr>\n",
              "    </thead>\n",
              "    <tbody>\n",
              "        <tr>\n",
              "            <td>Inception (2010)</td>\n",
              "            <td>8.8</td>\n",
              "        </tr>\n",
              "        <tr>\n",
              "            <td>Interstellar (2014)</td>\n",
              "            <td>8.6</td>\n",
              "        </tr>\n",
              "        <tr>\n",
              "            <td>Whiplash (2014)</td>\n",
              "            <td>8.5</td>\n",
              "        </tr>\n",
              "        <tr>\n",
              "            <td>Django Unchained (2012)</td>\n",
              "            <td>8.4</td>\n",
              "        </tr>\n",
              "        <tr>\n",
              "            <td>The Dark Knight Rises (2012)</td>\n",
              "            <td>8.4</td>\n",
              "        </tr>\n",
              "        <tr>\n",
              "            <td>Toy Story 3 (2010)</td>\n",
              "            <td>8.3</td>\n",
              "        </tr>\n",
              "        <tr>\n",
              "            <td>Hacksaw Ridge (2016)</td>\n",
              "            <td>8.2</td>\n",
              "        </tr>\n",
              "        <tr>\n",
              "            <td>Inside Out (2015)</td>\n",
              "            <td>8.2</td>\n",
              "        </tr>\n",
              "        <tr>\n",
              "            <td>La La Land (2016)</td>\n",
              "            <td>8.2</td>\n",
              "        </tr>\n",
              "        <tr>\n",
              "            <td>The Wolf of Wall Street (2013)</td>\n",
              "            <td>8.2</td>\n",
              "        </tr>\n",
              "    </tbody>\n",
              "</table>"
            ]
          },
          "metadata": {},
          "execution_count": 93
        }
      ]
    },
    {
      "cell_type": "markdown",
      "source": [
        "* Isso nos mostra que nem sempre o faturamento alto resulta em melhores avaliações."
      ],
      "metadata": {
        "id": "6bybdLcVDWup"
      }
    },
    {
      "cell_type": "code",
      "source": [],
      "metadata": {
        "id": "gD1jmQryCqYW"
      },
      "execution_count": null,
      "outputs": []
    }
  ]
}